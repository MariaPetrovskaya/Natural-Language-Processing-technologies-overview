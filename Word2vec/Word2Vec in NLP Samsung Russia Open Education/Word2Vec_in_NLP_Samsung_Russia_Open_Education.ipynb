{
  "cells": [
    {
      "cell_type": "markdown",
      "metadata": {
        "id": "view-in-github",
        "colab_type": "text"
      },
      "source": [
        "<a href=\"https://colab.research.google.com/github/MariaPetrovskaya/Natural-Language-Processing-technologies-overview/blob/main/Word2vec/Word2Vec%20in%20NLP%20Samsung%20Russia%20Open%20Education/Word2Vec_in_NLP_Samsung_Russia_Open_Education.ipynb\" target=\"_parent\"><img src=\"https://colab.research.google.com/assets/colab-badge.svg\" alt=\"Open In Colab\"/></a>"
      ]
    },
    {
      "cell_type": "markdown",
      "metadata": {
        "id": "PzUQ8pvAvIpK"
      },
      "source": [
        "# Word2Vec"
      ]
    },
    {
      "cell_type": "markdown",
      "source": [
        "Англоязычный датасет, содержащий рецепты, без разметки"
      ],
      "metadata": {
        "id": "rX5ttuE4MFlo"
      }
    },
    {
      "cell_type": "markdown",
      "source": [
        "##Теоретические заметки"
      ],
      "metadata": {
        "id": "dq9q9UQbWM-C"
      }
    },
    {
      "cell_type": "markdown",
      "source": [
        "Про модель  word2vec. Она была предложена Томашем Миколавом в 2013 году[1] и привела к настоящему взрыву интереса к дистрибутивной семантике. В основе подхода — моделирование условного распределения вероятностей соседних слов. Важная особенность и отличие от предыдущей модели — в том что, word2vec работает с локальным контекстом, то есть с окном небольшой длины. Например если ширина равна трём, то мы будем идти по тексту и поочереди выбирать вот такие окна, то есть мы поочереди будем каждое слово ставить в центр окна, и рассматривать его контекст. А также, на каждом шаге, для каждого окна, мы обновляем параметры модели, чтобы повысить правдоподобие того, что мы сейчас наблюдаем. Томаш предложил два варианта модели. Первый называется Skip Gram — он моделирует распределение соседей при условии центрального слова. Второй вариант (CBOW)— наоборот, моделирует распределение центрального слова при условии известных соседей. В модели для каждого слова хранятся и настраиваются два вектора. Первый (мы будем называть его центральным) мы будем использовать, когда слово находится в центре окна. Второй — когда слово является контекстом, то есть — не в центре. Параметры этой модели настраиваются градиентным спуском. По сути, процесс обучения word2vec идентичен обучению обычной нейросети, когда подаются обучающие примеры (в данном случае окна) один за другим, и после наблюдений небольшой пачки примеров веса модели обновляются.\n",
        "\n",
        "[1] Mikolov T. et al. Efficient estimation of word representations in vector space //arXiv preprint arXiv:1301.3781. – 2013. (https://arxiv.org/abs/1301.3781)"
      ],
      "metadata": {
        "id": "omJdGuw9WDgE"
      }
    },
    {
      "cell_type": "markdown",
      "source": [
        "Давайте немного подробнее остановимся на варианте Skip Gram. Мы моделируем соседние слова в окне при условии известного центрального слова. В отличие от предыдущей модели, вот эта суммы идёт не по всем уникальным словам, а по всем возможным окнам в корпусе, то есть по всем словоупотреблениям — каждое словоупотребление становится центром окна, мы берём контекст в этом окне, оцениваем его правдоподобие и обновляем веса. Чтобы было удобнее работать с таким распределением, мы предполагаем, что соседние слова условно независимы друг от друга, когда мы уже пронаблюдали центральное слово. Тогда наше распределение факторизуется, то есть его можно представить в виде произведения более простых распределений. Дальше мы моделируем такие распределения по-отдельности, независимо друг от друга. Моделируем мы их с помощью старого доброго друга — софтмакса. Внутри софтмакса мы используем скалярное произведение вектора текущего центрального слова с векторами остальных слов. Всё вроде бы хорошо, но в знаменателе у нас стоит сумма по всему словарю, а градиентные шаги нам нужно делать для каждого окна. Это очень дорого с вычислительной точки зрения. Томаш не растерялся и предложил аппроксимировать честный софтмакс более дешёвыми вариантами — один такой способ называется \"отрицательным сэмплированием\" (или \"negative sampling\"). Идея в том, что сумму в знаменателе мы считаем не по всему словарю, а по небольшому числу случайно выбранных слов. Эти слова мы выбираем каждый раз заново. Проблема снижения вычислительной сложности софтмакса является очень насущной, поэтому были предложены и другие варианты — например, иерархический софтмакс[1]. Но, пока что, мы не будем их рассматривать.\n",
        "\n",
        "[1] Hierarchical softmax and negative sampling: short notes worth telling"
      ],
      "metadata": {
        "id": "gSQNPP-CWsJ5"
      }
    },
    {
      "cell_type": "markdown",
      "source": [
        "https://arxiv.org/ftp/arxiv/papers/1206/1206.6426.pdf"
      ],
      "metadata": {
        "id": "j54LatpaadR3"
      }
    },
    {
      "cell_type": "markdown",
      "source": [
        "Спустя несколько лет модель word2vec получила вполне естественное развитие. Важной особенностью естественных языков является то, что слова могут принимать различные формы, при этом не меняя смысла. Ну, а мы же хотим чтобы наши вектора описывали именно смысл. Другими, словами мы хотим получить инвариантность к словоизменению. Один способ получить такую инвариантность — это нормализовать текст перед обучением модели — например, с помощью стэмминга или лемматизации. Однако первое ненадёжно, а второе сложно — не для всех языков есть хорошие морфологические анализаторы и лемматизаторы. На сайте \"rusvectores.org\" выложено много обученных моделей для русского языка, а также на этом сайте можно поисследовать возможности этих моделей в интерактивном режиме. Например, поискать слова, наиболее похожие на слово-запрос. Cреди похожих слов для запроса \"язык\", нет ничего связанного с биологией, только лингвистические термины. Это связано с тем, что word2vec для каждого слова хранит только один вектор, и это может привести к тому, что некоторые смыслы слова потеряются, а вектор будет описывать только наиболее частотный смысл. А ещё можно выбрать несколько слов и посмотреть графически, как они соотносятся друг с другом. Например, видно, что слово \"молоток\" ближе к глаголу \"забивать\", чем к глаголу \"любить\", например. А глагол \"пить\" находится недалеко от объектов действия \"чай\", \"кофе\". Другое свойство заключается в том, что мы можем складывать и вычитать вектора слов, при этом, как бы, переходя по семантическим связям. Например, если мы вычтем из вектора для снова \"женщина\" вектор для слова \"мужчина\", а потом прибавим вектор для слова \"дядя\" и попробуем поискать ближайшие вектора к полученному, то найдем слова \"тётя\". Это работает не для всех отношений не для всех слов, но для некоторых частотных — работает."
      ],
      "metadata": {
        "id": "lbRoAJSIann4"
      }
    },
    {
      "cell_type": "markdown",
      "source": [
        "\n",
        "\n",
        "---\n",
        "\n"
      ],
      "metadata": {
        "id": "sXhSaiqGXZqF"
      }
    },
    {
      "cell_type": "code",
      "execution_count": null,
      "metadata": {
        "colab": {
          "base_uri": "https://localhost:8080/"
        },
        "id": "uqK0WGwwqCZ-",
        "outputId": "c36de931-f322-4143-b404-9dc83d896255"
      },
      "outputs": [
        {
          "output_type": "stream",
          "name": "stdout",
          "text": [
            "Requirement already satisfied: gensim in /usr/local/lib/python3.10/dist-packages (4.3.2)\n",
            "Requirement already satisfied: numpy>=1.18.5 in /usr/local/lib/python3.10/dist-packages (from gensim) (1.25.2)\n",
            "Requirement already satisfied: scipy>=1.7.0 in /usr/local/lib/python3.10/dist-packages (from gensim) (1.11.4)\n",
            "Requirement already satisfied: smart-open>=1.8.1 in /usr/local/lib/python3.10/dist-packages (from gensim) (6.4.0)\n"
          ]
        }
      ],
      "source": [
        "! pip install gensim #этот импорт надо делать первым, иначе библиотеки степика с ним как-то конфликтуют"
      ]
    },
    {
      "cell_type": "code",
      "execution_count": null,
      "metadata": {
        "collapsed": true,
        "id": "V6TEEaYjSK1U"
      },
      "outputs": [],
      "source": [
        "# import modules & set up logging\n",
        "import gensim, logging\n",
        "logging.basicConfig(format='%(asctime)s : %(levelname)s : %(message)s', level=logging.INFO)"
      ]
    },
    {
      "cell_type": "code",
      "source": [
        "import multiprocessing\n",
        "\n",
        "from gensim.models import Word2Vec"
      ],
      "metadata": {
        "id": "ncdP9005jpna"
      },
      "execution_count": null,
      "outputs": []
    },
    {
      "cell_type": "code",
      "source": [
        "from gensim import models"
      ],
      "metadata": {
        "id": "rmYcKH4Wat8U"
      },
      "execution_count": null,
      "outputs": []
    },
    {
      "cell_type": "code",
      "source": [
        "from gensim.utils import keep_vocab_item, call_on_class_only, deprecated\n",
        "from gensim.models.keyedvectors import KeyedVectors, pseudorandom_weak_vector\n",
        "from gensim import utils, matutils\n",
        "\n",
        "# This import is required by pickle to load models stored by Gensim < 4.0, such as Gensim 3.8.3.\n",
        "from gensim.models.keyedvectors import Vocab  # noqa"
      ],
      "metadata": {
        "id": "5hRcpCRNcM_S"
      },
      "execution_count": null,
      "outputs": []
    },
    {
      "cell_type": "code",
      "execution_count": null,
      "metadata": {
        "id": "nuvIEe48vIpL",
        "colab": {
          "base_uri": "https://localhost:8080/"
        },
        "outputId": "0674726c-8aa1-4890-850d-0497e1325103"
      },
      "outputs": [
        {
          "output_type": "stream",
          "name": "stdout",
          "text": [
            "Cloning into 'stepik-dl-nlp'...\n",
            "remote: Enumerating objects: 296, done.\u001b[K\n",
            "remote: Counting objects: 100% (3/3), done.\u001b[K\n",
            "remote: Compressing objects: 100% (3/3), done.\u001b[K\n",
            "remote: Total 296 (delta 0), reused 0 (delta 0), pack-reused 293\u001b[K\n",
            "Receiving objects: 100% (296/296), 42.30 MiB | 14.29 MiB/s, done.\n",
            "Resolving deltas: 100% (134/134), done.\n",
            "Updating files: 100% (51/51), done.\n",
            "Requirement already satisfied: scikit-learn in /usr/local/lib/python3.10/dist-packages (from -r stepik-dl-nlp/requirements.txt (line 1)) (1.2.2)\n",
            "Collecting spacy-udpipe (from -r stepik-dl-nlp/requirements.txt (line 2))\n",
            "  Downloading spacy_udpipe-1.0.0-py3-none-any.whl (11 kB)\n",
            "Collecting pymorphy2 (from -r stepik-dl-nlp/requirements.txt (line 3))\n",
            "  Downloading pymorphy2-0.9.1-py3-none-any.whl (55 kB)\n",
            "\u001b[2K     \u001b[90m━━━━━━━━━━━━━━━━━━━━━━━━━━━━━━━━━━━━━━━━\u001b[0m \u001b[32m55.5/55.5 kB\u001b[0m \u001b[31m3.5 MB/s\u001b[0m eta \u001b[36m0:00:00\u001b[0m\n",
            "\u001b[?25hRequirement already satisfied: torch>=1.2 in /usr/local/lib/python3.10/dist-packages (from -r stepik-dl-nlp/requirements.txt (line 4)) (2.2.1+cu121)\n",
            "Requirement already satisfied: matplotlib in /usr/local/lib/python3.10/dist-packages (from -r stepik-dl-nlp/requirements.txt (line 5)) (3.7.1)\n",
            "Collecting ipymarkup (from -r stepik-dl-nlp/requirements.txt (line 6))\n",
            "  Downloading ipymarkup-0.9.0-py3-none-any.whl (14 kB)\n",
            "Requirement already satisfied: lxml in /usr/local/lib/python3.10/dist-packages (from -r stepik-dl-nlp/requirements.txt (line 7)) (4.9.4)\n",
            "Requirement already satisfied: scipy in /usr/local/lib/python3.10/dist-packages (from -r stepik-dl-nlp/requirements.txt (line 8)) (1.11.4)\n",
            "Requirement already satisfied: pandas in /usr/local/lib/python3.10/dist-packages (from -r stepik-dl-nlp/requirements.txt (line 9)) (2.0.3)\n",
            "Requirement already satisfied: tqdm in /usr/local/lib/python3.10/dist-packages (from -r stepik-dl-nlp/requirements.txt (line 10)) (4.66.2)\n",
            "Collecting youtokentome (from -r stepik-dl-nlp/requirements.txt (line 11))\n",
            "  Downloading youtokentome-1.0.6.tar.gz (86 kB)\n",
            "\u001b[2K     \u001b[90m━━━━━━━━━━━━━━━━━━━━━━━━━━━━━━━━━━━━━━━━\u001b[0m \u001b[32m86.7/86.7 kB\u001b[0m \u001b[31m2.9 MB/s\u001b[0m eta \u001b[36m0:00:00\u001b[0m\n",
            "\u001b[?25h  Preparing metadata (setup.py) ... \u001b[?25l\u001b[?25hdone\n",
            "Requirement already satisfied: seaborn in /usr/local/lib/python3.10/dist-packages (from -r stepik-dl-nlp/requirements.txt (line 12)) (0.13.1)\n",
            "Requirement already satisfied: ipykernel in /usr/local/lib/python3.10/dist-packages (from -r stepik-dl-nlp/requirements.txt (line 13)) (5.5.6)\n",
            "Requirement already satisfied: ipython in /usr/local/lib/python3.10/dist-packages (from -r stepik-dl-nlp/requirements.txt (line 14)) (7.34.0)\n",
            "Collecting pyconll (from -r stepik-dl-nlp/requirements.txt (line 15))\n",
            "  Downloading pyconll-3.2.0-py3-none-any.whl (27 kB)\n",
            "Collecting gensim==3.8.1 (from -r stepik-dl-nlp/requirements.txt (line 16))\n",
            "  Downloading gensim-3.8.1.tar.gz (23.4 MB)\n",
            "\u001b[2K     \u001b[90m━━━━━━━━━━━━━━━━━━━━━━━━━━━━━━━━━━━━━━━━\u001b[0m \u001b[32m23.4/23.4 MB\u001b[0m \u001b[31m32.0 MB/s\u001b[0m eta \u001b[36m0:00:00\u001b[0m\n",
            "\u001b[?25h  Preparing metadata (setup.py) ... \u001b[?25l\u001b[?25hdone\n",
            "Collecting wget (from -r stepik-dl-nlp/requirements.txt (line 17))\n",
            "  Downloading wget-3.2.zip (10 kB)\n",
            "  Preparing metadata (setup.py) ... \u001b[?25l\u001b[?25hdone\n",
            "Collecting livelossplot==0.5.3 (from -r stepik-dl-nlp/requirements.txt (line 18))\n",
            "  Downloading livelossplot-0.5.3-py3-none-any.whl (30 kB)\n",
            "Requirement already satisfied: numpy>=1.11.3 in /usr/local/lib/python3.10/dist-packages (from gensim==3.8.1->-r stepik-dl-nlp/requirements.txt (line 16)) (1.25.2)\n",
            "Requirement already satisfied: six>=1.5.0 in /usr/local/lib/python3.10/dist-packages (from gensim==3.8.1->-r stepik-dl-nlp/requirements.txt (line 16)) (1.16.0)\n",
            "Requirement already satisfied: smart_open>=1.8.1 in /usr/local/lib/python3.10/dist-packages (from gensim==3.8.1->-r stepik-dl-nlp/requirements.txt (line 16)) (6.4.0)\n",
            "Requirement already satisfied: bokeh in /usr/local/lib/python3.10/dist-packages (from livelossplot==0.5.3->-r stepik-dl-nlp/requirements.txt (line 18)) (3.3.4)\n",
            "Requirement already satisfied: joblib>=1.1.1 in /usr/local/lib/python3.10/dist-packages (from scikit-learn->-r stepik-dl-nlp/requirements.txt (line 1)) (1.4.0)\n",
            "Requirement already satisfied: threadpoolctl>=2.0.0 in /usr/local/lib/python3.10/dist-packages (from scikit-learn->-r stepik-dl-nlp/requirements.txt (line 1)) (3.4.0)\n",
            "Requirement already satisfied: spacy<4.0.0,>=3.0.0 in /usr/local/lib/python3.10/dist-packages (from spacy-udpipe->-r stepik-dl-nlp/requirements.txt (line 2)) (3.7.4)\n",
            "Collecting ufal.udpipe>=1.2.0 (from spacy-udpipe->-r stepik-dl-nlp/requirements.txt (line 2))\n",
            "  Downloading ufal.udpipe-1.3.1.1-cp310-cp310-manylinux_2_17_x86_64.manylinux2014_x86_64.whl (936 kB)\n",
            "\u001b[2K     \u001b[90m━━━━━━━━━━━━━━━━━━━━━━━━━━━━━━━━━━━━━━━━\u001b[0m \u001b[32m936.8/936.8 kB\u001b[0m \u001b[31m32.4 MB/s\u001b[0m eta \u001b[36m0:00:00\u001b[0m\n",
            "\u001b[?25hCollecting dawg-python>=0.7.1 (from pymorphy2->-r stepik-dl-nlp/requirements.txt (line 3))\n",
            "  Downloading DAWG_Python-0.7.2-py2.py3-none-any.whl (11 kB)\n",
            "Collecting pymorphy2-dicts-ru<3.0,>=2.4 (from pymorphy2->-r stepik-dl-nlp/requirements.txt (line 3))\n",
            "  Downloading pymorphy2_dicts_ru-2.4.417127.4579844-py2.py3-none-any.whl (8.2 MB)\n",
            "\u001b[2K     \u001b[90m━━━━━━━━━━━━━━━━━━━━━━━━━━━━━━━━━━━━━━━━\u001b[0m \u001b[32m8.2/8.2 MB\u001b[0m \u001b[31m42.4 MB/s\u001b[0m eta \u001b[36m0:00:00\u001b[0m\n",
            "\u001b[?25hCollecting docopt>=0.6 (from pymorphy2->-r stepik-dl-nlp/requirements.txt (line 3))\n",
            "  Downloading docopt-0.6.2.tar.gz (25 kB)\n",
            "  Preparing metadata (setup.py) ... \u001b[?25l\u001b[?25hdone\n",
            "Requirement already satisfied: filelock in /usr/local/lib/python3.10/dist-packages (from torch>=1.2->-r stepik-dl-nlp/requirements.txt (line 4)) (3.13.4)\n",
            "Requirement already satisfied: typing-extensions>=4.8.0 in /usr/local/lib/python3.10/dist-packages (from torch>=1.2->-r stepik-dl-nlp/requirements.txt (line 4)) (4.11.0)\n",
            "Requirement already satisfied: sympy in /usr/local/lib/python3.10/dist-packages (from torch>=1.2->-r stepik-dl-nlp/requirements.txt (line 4)) (1.12)\n",
            "Requirement already satisfied: networkx in /usr/local/lib/python3.10/dist-packages (from torch>=1.2->-r stepik-dl-nlp/requirements.txt (line 4)) (3.3)\n",
            "Requirement already satisfied: jinja2 in /usr/local/lib/python3.10/dist-packages (from torch>=1.2->-r stepik-dl-nlp/requirements.txt (line 4)) (3.1.3)\n",
            "Requirement already satisfied: fsspec in /usr/local/lib/python3.10/dist-packages (from torch>=1.2->-r stepik-dl-nlp/requirements.txt (line 4)) (2023.6.0)\n",
            "Collecting nvidia-cuda-nvrtc-cu12==12.1.105 (from torch>=1.2->-r stepik-dl-nlp/requirements.txt (line 4))\n",
            "  Using cached nvidia_cuda_nvrtc_cu12-12.1.105-py3-none-manylinux1_x86_64.whl (23.7 MB)\n",
            "Collecting nvidia-cuda-runtime-cu12==12.1.105 (from torch>=1.2->-r stepik-dl-nlp/requirements.txt (line 4))\n",
            "  Using cached nvidia_cuda_runtime_cu12-12.1.105-py3-none-manylinux1_x86_64.whl (823 kB)\n",
            "Collecting nvidia-cuda-cupti-cu12==12.1.105 (from torch>=1.2->-r stepik-dl-nlp/requirements.txt (line 4))\n",
            "  Using cached nvidia_cuda_cupti_cu12-12.1.105-py3-none-manylinux1_x86_64.whl (14.1 MB)\n",
            "Collecting nvidia-cudnn-cu12==8.9.2.26 (from torch>=1.2->-r stepik-dl-nlp/requirements.txt (line 4))\n",
            "  Using cached nvidia_cudnn_cu12-8.9.2.26-py3-none-manylinux1_x86_64.whl (731.7 MB)\n",
            "Collecting nvidia-cublas-cu12==12.1.3.1 (from torch>=1.2->-r stepik-dl-nlp/requirements.txt (line 4))\n",
            "  Using cached nvidia_cublas_cu12-12.1.3.1-py3-none-manylinux1_x86_64.whl (410.6 MB)\n",
            "Collecting nvidia-cufft-cu12==11.0.2.54 (from torch>=1.2->-r stepik-dl-nlp/requirements.txt (line 4))\n",
            "  Using cached nvidia_cufft_cu12-11.0.2.54-py3-none-manylinux1_x86_64.whl (121.6 MB)\n",
            "Collecting nvidia-curand-cu12==10.3.2.106 (from torch>=1.2->-r stepik-dl-nlp/requirements.txt (line 4))\n",
            "  Using cached nvidia_curand_cu12-10.3.2.106-py3-none-manylinux1_x86_64.whl (56.5 MB)\n",
            "Collecting nvidia-cusolver-cu12==11.4.5.107 (from torch>=1.2->-r stepik-dl-nlp/requirements.txt (line 4))\n",
            "  Using cached nvidia_cusolver_cu12-11.4.5.107-py3-none-manylinux1_x86_64.whl (124.2 MB)\n",
            "Collecting nvidia-cusparse-cu12==12.1.0.106 (from torch>=1.2->-r stepik-dl-nlp/requirements.txt (line 4))\n",
            "  Using cached nvidia_cusparse_cu12-12.1.0.106-py3-none-manylinux1_x86_64.whl (196.0 MB)\n",
            "Collecting nvidia-nccl-cu12==2.19.3 (from torch>=1.2->-r stepik-dl-nlp/requirements.txt (line 4))\n",
            "  Using cached nvidia_nccl_cu12-2.19.3-py3-none-manylinux1_x86_64.whl (166.0 MB)\n",
            "Collecting nvidia-nvtx-cu12==12.1.105 (from torch>=1.2->-r stepik-dl-nlp/requirements.txt (line 4))\n",
            "  Using cached nvidia_nvtx_cu12-12.1.105-py3-none-manylinux1_x86_64.whl (99 kB)\n",
            "Requirement already satisfied: triton==2.2.0 in /usr/local/lib/python3.10/dist-packages (from torch>=1.2->-r stepik-dl-nlp/requirements.txt (line 4)) (2.2.0)\n",
            "Collecting nvidia-nvjitlink-cu12 (from nvidia-cusolver-cu12==11.4.5.107->torch>=1.2->-r stepik-dl-nlp/requirements.txt (line 4))\n",
            "  Using cached nvidia_nvjitlink_cu12-12.4.127-py3-none-manylinux2014_x86_64.whl (21.1 MB)\n",
            "Requirement already satisfied: contourpy>=1.0.1 in /usr/local/lib/python3.10/dist-packages (from matplotlib->-r stepik-dl-nlp/requirements.txt (line 5)) (1.2.1)\n",
            "Requirement already satisfied: cycler>=0.10 in /usr/local/lib/python3.10/dist-packages (from matplotlib->-r stepik-dl-nlp/requirements.txt (line 5)) (0.12.1)\n",
            "Requirement already satisfied: fonttools>=4.22.0 in /usr/local/lib/python3.10/dist-packages (from matplotlib->-r stepik-dl-nlp/requirements.txt (line 5)) (4.51.0)\n",
            "Requirement already satisfied: kiwisolver>=1.0.1 in /usr/local/lib/python3.10/dist-packages (from matplotlib->-r stepik-dl-nlp/requirements.txt (line 5)) (1.4.5)\n",
            "Requirement already satisfied: packaging>=20.0 in /usr/local/lib/python3.10/dist-packages (from matplotlib->-r stepik-dl-nlp/requirements.txt (line 5)) (24.0)\n",
            "Requirement already satisfied: pillow>=6.2.0 in /usr/local/lib/python3.10/dist-packages (from matplotlib->-r stepik-dl-nlp/requirements.txt (line 5)) (9.4.0)\n",
            "Requirement already satisfied: pyparsing>=2.3.1 in /usr/local/lib/python3.10/dist-packages (from matplotlib->-r stepik-dl-nlp/requirements.txt (line 5)) (3.1.2)\n",
            "Requirement already satisfied: python-dateutil>=2.7 in /usr/local/lib/python3.10/dist-packages (from matplotlib->-r stepik-dl-nlp/requirements.txt (line 5)) (2.8.2)\n",
            "Collecting intervaltree>=3 (from ipymarkup->-r stepik-dl-nlp/requirements.txt (line 6))\n",
            "  Downloading intervaltree-3.1.0.tar.gz (32 kB)\n",
            "  Preparing metadata (setup.py) ... \u001b[?25l\u001b[?25hdone\n",
            "Requirement already satisfied: pytz>=2020.1 in /usr/local/lib/python3.10/dist-packages (from pandas->-r stepik-dl-nlp/requirements.txt (line 9)) (2023.4)\n",
            "Requirement already satisfied: tzdata>=2022.1 in /usr/local/lib/python3.10/dist-packages (from pandas->-r stepik-dl-nlp/requirements.txt (line 9)) (2024.1)\n",
            "Requirement already satisfied: Click>=7.0 in /usr/local/lib/python3.10/dist-packages (from youtokentome->-r stepik-dl-nlp/requirements.txt (line 11)) (8.1.7)\n",
            "Requirement already satisfied: ipython-genutils in /usr/local/lib/python3.10/dist-packages (from ipykernel->-r stepik-dl-nlp/requirements.txt (line 13)) (0.2.0)\n",
            "Requirement already satisfied: traitlets>=4.1.0 in /usr/local/lib/python3.10/dist-packages (from ipykernel->-r stepik-dl-nlp/requirements.txt (line 13)) (5.7.1)\n",
            "Requirement already satisfied: jupyter-client in /usr/local/lib/python3.10/dist-packages (from ipykernel->-r stepik-dl-nlp/requirements.txt (line 13)) (6.1.12)\n",
            "Requirement already satisfied: tornado>=4.2 in /usr/local/lib/python3.10/dist-packages (from ipykernel->-r stepik-dl-nlp/requirements.txt (line 13)) (6.3.3)\n",
            "Requirement already satisfied: setuptools>=18.5 in /usr/local/lib/python3.10/dist-packages (from ipython->-r stepik-dl-nlp/requirements.txt (line 14)) (67.7.2)\n",
            "Collecting jedi>=0.16 (from ipython->-r stepik-dl-nlp/requirements.txt (line 14))\n",
            "  Downloading jedi-0.19.1-py2.py3-none-any.whl (1.6 MB)\n",
            "\u001b[2K     \u001b[90m━━━━━━━━━━━━━━━━━━━━━━━━━━━━━━━━━━━━━━━━\u001b[0m \u001b[32m1.6/1.6 MB\u001b[0m \u001b[31m55.5 MB/s\u001b[0m eta \u001b[36m0:00:00\u001b[0m\n",
            "\u001b[?25hRequirement already satisfied: decorator in /usr/local/lib/python3.10/dist-packages (from ipython->-r stepik-dl-nlp/requirements.txt (line 14)) (4.4.2)\n",
            "Requirement already satisfied: pickleshare in /usr/local/lib/python3.10/dist-packages (from ipython->-r stepik-dl-nlp/requirements.txt (line 14)) (0.7.5)\n",
            "Requirement already satisfied: prompt-toolkit!=3.0.0,!=3.0.1,<3.1.0,>=2.0.0 in /usr/local/lib/python3.10/dist-packages (from ipython->-r stepik-dl-nlp/requirements.txt (line 14)) (3.0.43)\n",
            "Requirement already satisfied: pygments in /usr/local/lib/python3.10/dist-packages (from ipython->-r stepik-dl-nlp/requirements.txt (line 14)) (2.16.1)\n",
            "Requirement already satisfied: backcall in /usr/local/lib/python3.10/dist-packages (from ipython->-r stepik-dl-nlp/requirements.txt (line 14)) (0.2.0)\n",
            "Requirement already satisfied: matplotlib-inline in /usr/local/lib/python3.10/dist-packages (from ipython->-r stepik-dl-nlp/requirements.txt (line 14)) (0.1.6)\n",
            "Requirement already satisfied: pexpect>4.3 in /usr/local/lib/python3.10/dist-packages (from ipython->-r stepik-dl-nlp/requirements.txt (line 14)) (4.9.0)\n",
            "Requirement already satisfied: sortedcontainers<3.0,>=2.0 in /usr/local/lib/python3.10/dist-packages (from intervaltree>=3->ipymarkup->-r stepik-dl-nlp/requirements.txt (line 6)) (2.4.0)\n",
            "Requirement already satisfied: parso<0.9.0,>=0.8.3 in /usr/local/lib/python3.10/dist-packages (from jedi>=0.16->ipython->-r stepik-dl-nlp/requirements.txt (line 14)) (0.8.4)\n",
            "Requirement already satisfied: ptyprocess>=0.5 in /usr/local/lib/python3.10/dist-packages (from pexpect>4.3->ipython->-r stepik-dl-nlp/requirements.txt (line 14)) (0.7.0)\n",
            "Requirement already satisfied: wcwidth in /usr/local/lib/python3.10/dist-packages (from prompt-toolkit!=3.0.0,!=3.0.1,<3.1.0,>=2.0.0->ipython->-r stepik-dl-nlp/requirements.txt (line 14)) (0.2.13)\n",
            "Requirement already satisfied: spacy-legacy<3.1.0,>=3.0.11 in /usr/local/lib/python3.10/dist-packages (from spacy<4.0.0,>=3.0.0->spacy-udpipe->-r stepik-dl-nlp/requirements.txt (line 2)) (3.0.12)\n",
            "Requirement already satisfied: spacy-loggers<2.0.0,>=1.0.0 in /usr/local/lib/python3.10/dist-packages (from spacy<4.0.0,>=3.0.0->spacy-udpipe->-r stepik-dl-nlp/requirements.txt (line 2)) (1.0.5)\n",
            "Requirement already satisfied: murmurhash<1.1.0,>=0.28.0 in /usr/local/lib/python3.10/dist-packages (from spacy<4.0.0,>=3.0.0->spacy-udpipe->-r stepik-dl-nlp/requirements.txt (line 2)) (1.0.10)\n",
            "Requirement already satisfied: cymem<2.1.0,>=2.0.2 in /usr/local/lib/python3.10/dist-packages (from spacy<4.0.0,>=3.0.0->spacy-udpipe->-r stepik-dl-nlp/requirements.txt (line 2)) (2.0.8)\n",
            "Requirement already satisfied: preshed<3.1.0,>=3.0.2 in /usr/local/lib/python3.10/dist-packages (from spacy<4.0.0,>=3.0.0->spacy-udpipe->-r stepik-dl-nlp/requirements.txt (line 2)) (3.0.9)\n",
            "Requirement already satisfied: thinc<8.3.0,>=8.2.2 in /usr/local/lib/python3.10/dist-packages (from spacy<4.0.0,>=3.0.0->spacy-udpipe->-r stepik-dl-nlp/requirements.txt (line 2)) (8.2.3)\n",
            "Requirement already satisfied: wasabi<1.2.0,>=0.9.1 in /usr/local/lib/python3.10/dist-packages (from spacy<4.0.0,>=3.0.0->spacy-udpipe->-r stepik-dl-nlp/requirements.txt (line 2)) (1.1.2)\n",
            "Requirement already satisfied: srsly<3.0.0,>=2.4.3 in /usr/local/lib/python3.10/dist-packages (from spacy<4.0.0,>=3.0.0->spacy-udpipe->-r stepik-dl-nlp/requirements.txt (line 2)) (2.4.8)\n",
            "Requirement already satisfied: catalogue<2.1.0,>=2.0.6 in /usr/local/lib/python3.10/dist-packages (from spacy<4.0.0,>=3.0.0->spacy-udpipe->-r stepik-dl-nlp/requirements.txt (line 2)) (2.0.10)\n",
            "Requirement already satisfied: weasel<0.4.0,>=0.1.0 in /usr/local/lib/python3.10/dist-packages (from spacy<4.0.0,>=3.0.0->spacy-udpipe->-r stepik-dl-nlp/requirements.txt (line 2)) (0.3.4)\n",
            "Requirement already satisfied: typer<0.10.0,>=0.3.0 in /usr/local/lib/python3.10/dist-packages (from spacy<4.0.0,>=3.0.0->spacy-udpipe->-r stepik-dl-nlp/requirements.txt (line 2)) (0.9.4)\n",
            "Requirement already satisfied: requests<3.0.0,>=2.13.0 in /usr/local/lib/python3.10/dist-packages (from spacy<4.0.0,>=3.0.0->spacy-udpipe->-r stepik-dl-nlp/requirements.txt (line 2)) (2.31.0)\n",
            "Requirement already satisfied: pydantic!=1.8,!=1.8.1,<3.0.0,>=1.7.4 in /usr/local/lib/python3.10/dist-packages (from spacy<4.0.0,>=3.0.0->spacy-udpipe->-r stepik-dl-nlp/requirements.txt (line 2)) (2.6.4)\n",
            "Requirement already satisfied: langcodes<4.0.0,>=3.2.0 in /usr/local/lib/python3.10/dist-packages (from spacy<4.0.0,>=3.0.0->spacy-udpipe->-r stepik-dl-nlp/requirements.txt (line 2)) (3.3.0)\n",
            "Requirement already satisfied: PyYAML>=3.10 in /usr/local/lib/python3.10/dist-packages (from bokeh->livelossplot==0.5.3->-r stepik-dl-nlp/requirements.txt (line 18)) (6.0.1)\n",
            "Requirement already satisfied: xyzservices>=2021.09.1 in /usr/local/lib/python3.10/dist-packages (from bokeh->livelossplot==0.5.3->-r stepik-dl-nlp/requirements.txt (line 18)) (2024.4.0)\n",
            "Requirement already satisfied: MarkupSafe>=2.0 in /usr/local/lib/python3.10/dist-packages (from jinja2->torch>=1.2->-r stepik-dl-nlp/requirements.txt (line 4)) (2.1.5)\n",
            "Requirement already satisfied: jupyter-core>=4.6.0 in /usr/local/lib/python3.10/dist-packages (from jupyter-client->ipykernel->-r stepik-dl-nlp/requirements.txt (line 13)) (5.7.2)\n",
            "Requirement already satisfied: pyzmq>=13 in /usr/local/lib/python3.10/dist-packages (from jupyter-client->ipykernel->-r stepik-dl-nlp/requirements.txt (line 13)) (23.2.1)\n",
            "Requirement already satisfied: mpmath>=0.19 in /usr/local/lib/python3.10/dist-packages (from sympy->torch>=1.2->-r stepik-dl-nlp/requirements.txt (line 4)) (1.3.0)\n",
            "Requirement already satisfied: platformdirs>=2.5 in /usr/local/lib/python3.10/dist-packages (from jupyter-core>=4.6.0->jupyter-client->ipykernel->-r stepik-dl-nlp/requirements.txt (line 13)) (4.2.0)\n",
            "Requirement already satisfied: annotated-types>=0.4.0 in /usr/local/lib/python3.10/dist-packages (from pydantic!=1.8,!=1.8.1,<3.0.0,>=1.7.4->spacy<4.0.0,>=3.0.0->spacy-udpipe->-r stepik-dl-nlp/requirements.txt (line 2)) (0.6.0)\n",
            "Requirement already satisfied: pydantic-core==2.16.3 in /usr/local/lib/python3.10/dist-packages (from pydantic!=1.8,!=1.8.1,<3.0.0,>=1.7.4->spacy<4.0.0,>=3.0.0->spacy-udpipe->-r stepik-dl-nlp/requirements.txt (line 2)) (2.16.3)\n",
            "Requirement already satisfied: charset-normalizer<4,>=2 in /usr/local/lib/python3.10/dist-packages (from requests<3.0.0,>=2.13.0->spacy<4.0.0,>=3.0.0->spacy-udpipe->-r stepik-dl-nlp/requirements.txt (line 2)) (3.3.2)\n",
            "Requirement already satisfied: idna<4,>=2.5 in /usr/local/lib/python3.10/dist-packages (from requests<3.0.0,>=2.13.0->spacy<4.0.0,>=3.0.0->spacy-udpipe->-r stepik-dl-nlp/requirements.txt (line 2)) (3.6)\n",
            "Requirement already satisfied: urllib3<3,>=1.21.1 in /usr/local/lib/python3.10/dist-packages (from requests<3.0.0,>=2.13.0->spacy<4.0.0,>=3.0.0->spacy-udpipe->-r stepik-dl-nlp/requirements.txt (line 2)) (2.0.7)\n",
            "Requirement already satisfied: certifi>=2017.4.17 in /usr/local/lib/python3.10/dist-packages (from requests<3.0.0,>=2.13.0->spacy<4.0.0,>=3.0.0->spacy-udpipe->-r stepik-dl-nlp/requirements.txt (line 2)) (2024.2.2)\n",
            "Requirement already satisfied: blis<0.8.0,>=0.7.8 in /usr/local/lib/python3.10/dist-packages (from thinc<8.3.0,>=8.2.2->spacy<4.0.0,>=3.0.0->spacy-udpipe->-r stepik-dl-nlp/requirements.txt (line 2)) (0.7.11)\n",
            "Requirement already satisfied: confection<1.0.0,>=0.0.1 in /usr/local/lib/python3.10/dist-packages (from thinc<8.3.0,>=8.2.2->spacy<4.0.0,>=3.0.0->spacy-udpipe->-r stepik-dl-nlp/requirements.txt (line 2)) (0.1.4)\n",
            "Requirement already satisfied: cloudpathlib<0.17.0,>=0.7.0 in /usr/local/lib/python3.10/dist-packages (from weasel<0.4.0,>=0.1.0->spacy<4.0.0,>=3.0.0->spacy-udpipe->-r stepik-dl-nlp/requirements.txt (line 2)) (0.16.0)\n",
            "Building wheels for collected packages: gensim, youtokentome, wget, docopt, intervaltree\n",
            "  Building wheel for gensim (setup.py) ... \u001b[?25l\u001b[?25hdone\n",
            "  Created wheel for gensim: filename=gensim-3.8.1-cp310-cp310-linux_x86_64.whl size=24682940 sha256=d99d3f116468cfd3373ca33d9e38f45bdf04316e6154e18d0b17c70bac1cd1d1\n",
            "  Stored in directory: /root/.cache/pip/wheels/92/23/5d/b5ce54b3760acfebee170a8fe4d91cb303fafbefd8f93f3723\n",
            "  Building wheel for youtokentome (setup.py) ... \u001b[?25l\u001b[?25hdone\n",
            "  Created wheel for youtokentome: filename=youtokentome-1.0.6-cp310-cp310-linux_x86_64.whl size=1951498 sha256=f93a47e8bb976a409805b9543a94d6367e27550a0d99bdd5a54a867f4c52ed55\n",
            "  Stored in directory: /root/.cache/pip/wheels/df/85/f8/301d2ba45f43f30bed2fe413efa760bc726b8b660ed9c2900c\n",
            "  Building wheel for wget (setup.py) ... \u001b[?25l\u001b[?25hdone\n",
            "  Created wheel for wget: filename=wget-3.2-py3-none-any.whl size=9656 sha256=d081f2e3964d1b3272d0ba82d31a9a307f6406b3e5b35d74a00d119e378cbf15\n",
            "  Stored in directory: /root/.cache/pip/wheels/8b/f1/7f/5c94f0a7a505ca1c81cd1d9208ae2064675d97582078e6c769\n",
            "  Building wheel for docopt (setup.py) ... \u001b[?25l\u001b[?25hdone\n",
            "  Created wheel for docopt: filename=docopt-0.6.2-py2.py3-none-any.whl size=13706 sha256=707f39d0247f461e98501b4226499aaaa958d62a06da4bb5eca5158bc7db8ae7\n",
            "  Stored in directory: /root/.cache/pip/wheels/fc/ab/d4/5da2067ac95b36618c629a5f93f809425700506f72c9732fac\n",
            "  Building wheel for intervaltree (setup.py) ... \u001b[?25l\u001b[?25hdone\n",
            "  Created wheel for intervaltree: filename=intervaltree-3.1.0-py2.py3-none-any.whl size=26096 sha256=7a9340251846c8f7ca8e638bc05e2dcafd102e25a71038f778c4bea6b7ac66bf\n",
            "  Stored in directory: /root/.cache/pip/wheels/fa/80/8c/43488a924a046b733b64de3fac99252674c892a4c3801c0a61\n",
            "Successfully built gensim youtokentome wget docopt intervaltree\n",
            "Installing collected packages: wget, ufal.udpipe, pymorphy2-dicts-ru, docopt, dawg-python, youtokentome, pymorphy2, pyconll, nvidia-nvtx-cu12, nvidia-nvjitlink-cu12, nvidia-nccl-cu12, nvidia-curand-cu12, nvidia-cufft-cu12, nvidia-cuda-runtime-cu12, nvidia-cuda-nvrtc-cu12, nvidia-cuda-cupti-cu12, nvidia-cublas-cu12, jedi, intervaltree, nvidia-cusparse-cu12, nvidia-cudnn-cu12, ipymarkup, gensim, nvidia-cusolver-cu12, livelossplot, spacy-udpipe\n",
            "  Attempting uninstall: gensim\n",
            "    Found existing installation: gensim 4.3.2\n",
            "    Uninstalling gensim-4.3.2:\n",
            "      Successfully uninstalled gensim-4.3.2\n",
            "Successfully installed dawg-python-0.7.2 docopt-0.6.2 gensim-3.8.1 intervaltree-3.1.0 ipymarkup-0.9.0 jedi-0.19.1 livelossplot-0.5.3 nvidia-cublas-cu12-12.1.3.1 nvidia-cuda-cupti-cu12-12.1.105 nvidia-cuda-nvrtc-cu12-12.1.105 nvidia-cuda-runtime-cu12-12.1.105 nvidia-cudnn-cu12-8.9.2.26 nvidia-cufft-cu12-11.0.2.54 nvidia-curand-cu12-10.3.2.106 nvidia-cusolver-cu12-11.4.5.107 nvidia-cusparse-cu12-12.1.0.106 nvidia-nccl-cu12-2.19.3 nvidia-nvjitlink-cu12-12.4.127 nvidia-nvtx-cu12-12.1.105 pyconll-3.2.0 pymorphy2-0.9.1 pymorphy2-dicts-ru-2.4.417127.4579844 spacy-udpipe-1.0.0 ufal.udpipe-1.3.1.1 wget-3.2 youtokentome-1.0.6\n"
          ]
        }
      ],
      "source": [
        "# Если Вы запускаете ноутбук на colab или kaggle,\n",
        "# выполните следующие строчки, чтобы подгрузить библиотеку dlnlputils:\n",
        "\n",
        "!git clone https://github.com/Samsung-IT-Academy/stepik-dl-nlp.git && pip install -r stepik-dl-nlp/requirements.txt\n",
        "import sys; sys.path.append('./stepik-dl-nlp')"
      ]
    },
    {
      "cell_type": "code",
      "source": [],
      "metadata": {
        "id": "Hzk3rg96on5n"
      },
      "execution_count": null,
      "outputs": []
    },
    {
      "cell_type": "code",
      "execution_count": null,
      "metadata": {
        "ExecuteTime": {
          "end_time": "2019-10-29T19:19:30.785285Z",
          "start_time": "2019-10-29T19:19:29.542846Z"
        },
        "id": "kSYGM__qvIpM"
      },
      "outputs": [],
      "source": [
        "%load_ext autoreload\n",
        "%autoreload 2\n",
        "\n",
        "import random\n",
        "import pandas as pd\n",
        "import numpy as np\n",
        "\n",
        "import matplotlib.pyplot as plt\n",
        "%matplotlib inline\n",
        "\n",
        "import torch\n",
        "from torch import nn\n",
        "from torch.nn import functional as F\n",
        "\n",
        "import dlnlputils\n",
        "from dlnlputils.data import tokenize_corpus, build_vocabulary, texts_to_token_ids, \\\n",
        "    PaddedSequenceDataset, Embeddings\n",
        "from dlnlputils.pipeline import train_eval_loop, predict_with_model, init_random_seed\n",
        "from dlnlputils.visualization import plot_vectors\n",
        "\n",
        "init_random_seed()"
      ]
    },
    {
      "cell_type": "markdown",
      "metadata": {
        "id": "HhIjZX6evIpM"
      },
      "source": [
        "## Загрузка данных и подготовка корпуса"
      ]
    },
    {
      "cell_type": "code",
      "execution_count": null,
      "metadata": {
        "ExecuteTime": {
          "end_time": "2019-10-29T19:19:31.270503Z",
          "start_time": "2019-10-29T19:19:30.787789Z"
        },
        "id": "NyQ2oJA4vIpM",
        "colab": {
          "base_uri": "https://localhost:8080/"
        },
        "outputId": "5097ee0c-86c5-408b-f7df-2cf9683c81fd"
      },
      "outputs": [
        {
          "output_type": "stream",
          "name": "stdout",
          "text": [
            "Обучающая выборка 125344\n",
            "Тестовая выборка 53719\n",
            "\n",
            "1/4 cup sour cream\n",
            "10 ounces swordfish, red snapper or other firm-fleshed fish\n",
            "1 tablespoon minced basil leaves\n",
            "Handful fresh parsley, finely minced\n",
            "4 ounces lard or butter, plus more for brushing tops\n",
            "4 to 5 green cardamom pods\n",
            "1 stick ( 1/4 pound) unsalted butter, softened\n",
            "1/4 teaspoon red pepper flakes, preferably Turkish or Aleppo (see note), more to taste\n",
            "1 tablespoon fresh lemon juice\n",
            "1/4 cup scallions, thinly sliced\n"
          ]
        }
      ],
      "source": [
        "# Если Вы запускаете ноутбук на colab или kaggle, добавьте в начало пути ./stepik-dl-nlp\n",
        "full_dataset = list(pd.read_csv('./stepik-dl-nlp/datasets/nyt-ingredients-snapshot-2015.csv')['input'].dropna())\n",
        "random.shuffle(full_dataset)\n",
        "\n",
        "TRAIN_VAL_SPLIT = int(len(full_dataset) * 0.7)\n",
        "train_source = full_dataset[:TRAIN_VAL_SPLIT]\n",
        "test_source = full_dataset[TRAIN_VAL_SPLIT:]\n",
        "print(\"Обучающая выборка\", len(train_source))\n",
        "print(\"Тестовая выборка\", len(test_source))\n",
        "print()\n",
        "print('\\n'.join(train_source[:10]))"
      ]
    },
    {
      "cell_type": "code",
      "execution_count": null,
      "metadata": {
        "ExecuteTime": {
          "end_time": "2019-10-29T19:19:32.137838Z",
          "start_time": "2019-10-29T19:19:31.272363Z"
        },
        "id": "ZnfYW2W3vIpN",
        "colab": {
          "base_uri": "https://localhost:8080/"
        },
        "outputId": "8e4059f1-58a5-4e6d-83d9-a1a59f7e2e2c"
      },
      "outputs": [
        {
          "output_type": "stream",
          "name": "stdout",
          "text": [
            "sour cream\n",
            "ounces swordfish snapper other firm fleshed fish\n",
            "tablespoon minced basil leaves\n",
            "handful fresh parsley finely minced\n",
            "ounces lard butter plus more brushing tops\n",
            "green cardamom pods\n",
            "stick pound unsalted butter softened\n",
            "teaspoon pepper flakes preferably turkish aleppo note more taste\n",
            "tablespoon fresh lemon juice\n",
            "scallions thinly sliced\n"
          ]
        }
      ],
      "source": [
        "# токенизируем\n",
        "train_tokenized = tokenize_corpus(train_source)\n",
        "test_tokenized = tokenize_corpus(test_source)\n",
        "print('\\n'.join(' '.join(sent) for sent in train_tokenized[:10]))"
      ]
    },
    {
      "cell_type": "code",
      "execution_count": null,
      "metadata": {
        "ExecuteTime": {
          "end_time": "2019-10-29T19:19:32.325205Z",
          "start_time": "2019-10-29T19:19:32.140837Z"
        },
        "id": "dCxBGKbcvIpN",
        "colab": {
          "base_uri": "https://localhost:8080/"
        },
        "outputId": "3bce28f2-a9b1-4774-8745-d45aac38f11c"
      },
      "outputs": [
        {
          "output_type": "stream",
          "name": "stdout",
          "text": [
            "Размер словаря 2267\n",
            "[('<PAD>', 0), ('tablespoons', 1), ('teaspoon', 2), ('chopped', 3), ('salt', 4), ('pepper', 5), ('cups', 6), ('ground', 7), ('fresh', 8), ('tablespoon', 9)]\n"
          ]
        }
      ],
      "source": [
        "# строим словарь\n",
        "vocabulary, word_doc_freq = build_vocabulary(train_tokenized, max_doc_freq=0.9, min_count=5, pad_word='<PAD>')\n",
        "print(\"Размер словаря\", len(vocabulary))\n",
        "print(list(vocabulary.items())[:10])"
      ]
    },
    {
      "cell_type": "code",
      "execution_count": null,
      "metadata": {
        "ExecuteTime": {
          "end_time": "2019-10-29T19:19:32.686258Z",
          "start_time": "2019-10-29T19:19:32.327711Z"
        },
        "id": "elDGZzZevIpN",
        "colab": {
          "base_uri": "https://localhost:8080/"
        },
        "outputId": "bc6b9195-f0e6-4b1e-a2d2-43042019b21c"
      },
      "outputs": [
        {
          "output_type": "stream",
          "name": "stdout",
          "text": [
            "222 52\n",
            "22 878 574 127 246 707 181\n",
            "9 19 88 33\n",
            "517 8 43 15 19\n",
            "22 586 20 45 47 649 648\n",
            "59 329 535\n",
            "200 12 50 20 266\n",
            "2 5 140 78 1208 735 153 47 10\n",
            "9 8 31 25\n",
            "98 65 27\n"
          ]
        }
      ],
      "source": [
        "# отображаем в номера токенов\n",
        "train_token_ids = texts_to_token_ids(train_tokenized, vocabulary)\n",
        "test_token_ids = texts_to_token_ids(test_tokenized, vocabulary)\n",
        "\n",
        "print('\\n'.join(' '.join(str(t) for t in sent)\n",
        "                for sent in train_token_ids[:10]))"
      ]
    },
    {
      "cell_type": "code",
      "execution_count": null,
      "metadata": {
        "ExecuteTime": {
          "end_time": "2019-10-29T19:19:32.967989Z",
          "start_time": "2019-10-29T19:19:32.688319Z"
        },
        "id": "ViqE29s-vIpN",
        "colab": {
          "base_uri": "https://localhost:8080/",
          "height": 452
        },
        "outputId": "8fb6aab5-2150-4bb2-db2e-e4b8ba1feadc"
      },
      "outputs": [
        {
          "output_type": "display_data",
          "data": {
            "text/plain": [
              "<Figure size 640x480 with 1 Axes>"
            ],
            "image/png": "[encoded data removed]"
          },
          "metadata": {}
        }
      ],
      "source": [
        "plt.hist([len(s) for s in train_token_ids], bins=20);\n",
        "plt.title('Гистограмма длин предложений');"
      ]
    },
    {
      "cell_type": "code",
      "execution_count": null,
      "metadata": {
        "ExecuteTime": {
          "end_time": "2019-10-29T19:19:33.001487Z",
          "start_time": "2019-10-29T19:19:32.970153Z"
        },
        "id": "RBUSFRzHvIpN",
        "colab": {
          "base_uri": "https://localhost:8080/"
        },
        "outputId": "49ef2523-9354-45c7-f7b1-7d5f705c98ca"
      },
      "outputs": [
        {
          "output_type": "stream",
          "name": "stdout",
          "text": [
            "(tensor([222,  52,   0,   0,   0,   0,   0,   0,   0,   0,   0,   0,   0,   0,\n",
            "          0,   0,   0,   0,   0,   0]), tensor(0))\n"
          ]
        }
      ],
      "source": [
        "MAX_SENTENCE_LEN = 20\n",
        "train_dataset = PaddedSequenceDataset(train_token_ids,\n",
        "                                      np.zeros(len(train_token_ids)),\n",
        "                                      out_len=MAX_SENTENCE_LEN)\n",
        "test_dataset = PaddedSequenceDataset(test_token_ids,\n",
        "                                     np.zeros(len(test_token_ids)),\n",
        "                                     out_len=MAX_SENTENCE_LEN)\n",
        "print(train_dataset[0])"
      ]
    },
    {
      "cell_type": "markdown",
      "source": [
        "Сегодня мы реализуем своими собственными руками и обучим одну из самых простых и популярных моделей дистрибутивной семантики word2vec! Реализовывать модель будем с помощью pytorch. Итак, сначала нам нужно импортировать библиотеки, которые мы будем использовать, к ним относится numpy, matplotlib для визуализации, pytorch, а также наша небольшая библиотечка, которую мы написали специально для этого курса. Самый первый шаг — это загрузить датасет. В этом семинаре мы будем работать с англоязычным датасетом, составленным из рецептов. Нам нужны и из него только сами тексты — разметка нам не нужна. В этой ячейке мы также выполняем разбиение всего датасета на обучающую часть и на валидационную часть. Для этого мы сначала перемешиваем все предложения, а затем просто берём первые семьдесят процентов как обучение, и остальные тридцать как валидацию. Итого: у нас получается чуть больше 120 тысяч предложений для обучения — достаточно неплохо. Здесь вы можете видеть примеры предложений: первые 10 предложений. Следующий шаг после загрузки датасета — это токенизация, то есть разбиение на базовые лексические элементы. Токенизацию мы выполняем с помощью регулярных выражений. Мы уже использовали этот же алгоритм токенизации в первом семинаре про логистическую регрессию и классификацию новостных текстов. На экране вы видите те же самые 10 предложений, только после токенизации. В результате токенизации мы отбрасываем все очень короткие токены — предположительно, они не несут основного смысла. Далее, используя только обучающую подвыборку, мы строим словарь. При построении словаря мы хотим учитывать только значимые слова. Для этого мы отбрасываем слишком редкие слова, для которых мы просто не можем накопить статистику и не можем выучить их смысл — если слово встречается только один-два раза в корпусе, мы всё равно не сможем для него выучить какой-то \"вектор смысла\". А также мы отбрасываем самые часто встречающиеся токены — предположительно, это союзы, знаки препинания, цифры... Важный момент, про который нужно упомянуть — это добавление фиктивного токена в словарь: \"токена выравнивания\", так называемого. Он получает номер \"ноль\" и он будет использоваться для того, чтобы у нас появилась возможность объединить предложения разной длины в прямоугольный тензор. Это — часто применяемый трюк при обработке текстов с помощью нейросетей. Как мы видим, всего в нашем датасете примерно две тысячи уникальных токенов. Нейросети и компьютеры не умеют работать с текстами, как это делает человек — они работают только с числами. Нам нужно применить наш построенный словарь для того, чтобы отобразить токены (как фрагменты текста) в числа (в номера этих токенов в словаре). На экране вы видите те же самые 10 предложений, но вместо токенов здесь — их номера. Давайте посмотрим, какой длины предложения в нашем датасете встречаются. Видим, что большая часть предложений укладывается в 20 токенов. И, наконец, мы создаём специальные объекты — \"датасеты\" (Dataset). Они будут использоваться для того, чтобы, непосредственно, подавать данные — подавать фрагменты обучающей выборки в модель в процессе обучения. Мы хотим использовать pytorch и обучать модель, возможно, на видеокарте (особенно, если наша модель большая), а значит, нам нужно предусмотреть всё для эффективной пакетной обработки. Модель должна уметь обрабатывать сразу много предложений разной длины — \"за раз\". Но, с другой стороны, модели могут работать только с тензорами, а тензор — это такая \"прямоугольная\" конструкция, она не может иметь \"неровный край\". Нам нужно сделать, так чтобы все предложения имели одинаковую длину. Самое простое — это выровнять длину этих предложений с помощью фиктивных слов. Именно для этого мы вводили в словарь слово \"\" с нулевым идентификатором. Для того, чтобы подготавливать данные в нужном нам видео, мы используем объект PaddedSequenceDataset. Этот объект описан в нашей маленькой библиотеке, которую мы сделали специально для этого курса. Он умеет делать только две простые вещи: во-первых он может говорить свою длину (то есть, сколько предложений в нём есть, сколько текстов), а также он умеет возвращать предложение по номеру. При этом, если предложение короче некоторой заданной длины, то он добавляет нули в конец этого предложения. Или же, наоборот, если предложение длиннее установленного порога, то он его обрезает, то есть берёт только префикс предложения. Эта функция возвращает пары — а именно \"текст\" и \"какая-то метка\", которую по этому тексту нужно предсказывать. В данном семинаре мы не будем использовать метки — чуть позже я объясню, почему. Тем не менее, для того, чтобы этот объект можно было использовать в разных задачах (например, в задачах классификации), мы возвращаем и метки тоже. На экране вы видите один обучающий пример — так, как его подготовил наш Dataset. Мы видим, что это предложение состоит только из двух значимых токенов. Все остальные позиции заполняются нулями. С помощью гистограммы, которую мы построили чуть раньше, мы имели возможность выбрать оптимальную длину предложения так, чтобы и лишних вычислений не делать слишком много, и, при этом, уметь обрабатывать практически все предложения из нашего датасета. Для нашего датасета, как мне кажется, неплохо подходит порог \"20\". Я скажу ещё пару слов о том, зачем нам нужны эти паддинги (добавлять нули, и так далее). Видеокарты (это основные вычислители, которые сейчас используются для обучения нейросетей) умеют делать хорошо достаточно простые операции, и, при этом, они умеют делать эти простые операции параллельно. Допустим, если нам нужно перемножить две матрицы, то в видеокарте запускается четыре тысячи потоков, каждый поток из этих четырёх тысяч, по сути, делает только 1-2 перемножения, и всё — и возвращает результат. При этом мы получаем очень большое ускорение. Но проблема в том, что данные исходные у нас не лежат на видеокарте, они лежат у нас во внешней памяти на жёстком диске. Сначала мы их загружаем с жёсткого диска в оперативную память, как-то предобрабатываем (например — так, как мы это сейчас обсудили), и только потом копируем в память видеокарты. Эта процедура копирования занимает значительное время. Это гораздо дороже, чем скопировать память внутри видеокарты или внутри оперативной памяти. И поэтому мы хотим минимизировать количество переносов данных из оперативной памяти в память видеокарты, и наоборот. Для этого нам нужно объединять наши обучающие примеры в батчи (в группы), и мы описываем нашу модель, наш процесс обучения, таким образом, чтобы он поддерживал обработку нескольких обучающих примеров за раз. Естественно, чем больше данных за раз мы загрузили в видеокарту, тем более эффективно мы можем использовать возможности параллельных вычислений. Все потоки будут хорошо загружены."
      ],
      "metadata": {
        "id": "ooq88uk7LJQy"
      }
    },
    {
      "cell_type": "markdown",
      "metadata": {
        "id": "ObmXeUxXvIpN"
      },
      "source": [
        "## Алгоритм обучения - Skip Gram Negative Sampling\n",
        "\n",
        "**Skip Gram** - предсказываем соседние слова по центральному слову\n",
        "\n",
        "**Negative Sampling** - аппроксимация softmax\n",
        "\n",
        "$$ W, D \\in \\mathbb{R}^{Vocab \\times EmbSize} $$\n",
        "\n",
        "$$ \\sum_{CenterW_i} P(CtxW_{-2}, CtxW_{-1}, CtxW_{+1}, CtxW_{+2} | CenterW_i; W, D) \\rightarrow \\max_{W,D} $$\n",
        "\n",
        "$$ P(CtxW_{-2}, CtxW_{-1}, CtxW_{+1}, CtxW_{+2} | CenterW_i; W, D) = \\prod_j P(CtxW_j | CenterW_i; W, D) $$\n",
        "    \n",
        "$$ P(CtxW_j | CenterW_i; W, D) = \\frac{e^{w_i \\cdot d_j}} { \\sum_{j=1}^{|V|} e^{w_i \\cdot d_j}} = softmax \\simeq \\frac{e^{w_i \\cdot d_j^+}} { \\sum_{j=1}^{k} e^{w_i \\cdot d_j^-}}, \\quad k \\ll |V| $$"
      ]
    },
    {
      "cell_type": "markdown",
      "source": [
        " Давайте перейдём к программированию нашей модели и процессу её обучения. Сначала определим вспомогательную функцию, которая нам будет полезна. Наша модель принимает на вход целое предложение и должна оценивать вероятности встречаемости двух слов внутри небольшого окна. Другими словами, нам нужно игнорировать факты совместной встречаемости слов в одном предложении, но — далеко друг от друга, за пределами окна. Для того, чтобы игнорировать такие случаи, введём функцию, которая создаёт маску. В данном случае, маска — это квадратная матрица, сторона матрицы равна длине предложения, с которым мы работаем, все элементы в этой матрице — нулевые, за исключением двух полосок вдоль главной диагонали. Эти полоски заполнены единичками, и ширина этих полосок равна половине ширины окна. Таким образом мы задаём множество пар позиций токенов в предложении, для которых мы учитываем факты совместной встречаемости. Другими словами, строки и столбцы этой матрицы соответствуют некоторым позициям токенов в предложении, и значение этой матрицы задаёт — учитываем ли мы тот факт, что два токена, стоящие на этих позициях, встречается в одном предложении — учитываем ли мы этот факт как положительный пример при обучении, или игнорируем этот факт. Например, для позиций 10 и 2 мы игнорируем, потому что эти две позиции стоят далеко. А если позиции отличаются всего лишь на единичку — например 3 и 2, то мы уже учитываем, потому что тогда эти 2 токена всегда входят в наше окно. Эта матрица нам потребуется чуть позже для того, чтобы реализовать эффективную пакетную обработку на видеокарте."
      ],
      "metadata": {
        "id": "tXLGuz8KTSGN"
      }
    },
    {
      "cell_type": "code",
      "execution_count": null,
      "metadata": {
        "ExecuteTime": {
          "end_time": "2019-10-29T19:19:33.065376Z",
          "start_time": "2019-10-29T19:19:33.003081Z"
        },
        "id": "XBAytculvIpN",
        "colab": {
          "base_uri": "https://localhost:8080/"
        },
        "outputId": "2aacf37f-1917-4eaa-930b-183552a0fa6b"
      },
      "outputs": [
        {
          "output_type": "execute_result",
          "data": {
            "text/plain": [
              "tensor([[0., 1., 1., 1., 0., 0., 0., 0., 0., 0.],\n",
              "        [1., 0., 1., 1., 1., 0., 0., 0., 0., 0.],\n",
              "        [1., 1., 0., 1., 1., 1., 0., 0., 0., 0.],\n",
              "        [1., 1., 1., 0., 1., 1., 1., 0., 0., 0.],\n",
              "        [0., 1., 1., 1., 0., 1., 1., 1., 0., 0.],\n",
              "        [0., 0., 1., 1., 1., 0., 1., 1., 1., 0.],\n",
              "        [0., 0., 0., 1., 1., 1., 0., 1., 1., 1.],\n",
              "        [0., 0., 0., 0., 1., 1., 1., 0., 1., 1.],\n",
              "        [0., 0., 0., 0., 0., 1., 1., 1., 0., 1.],\n",
              "        [0., 0., 0., 0., 0., 0., 1., 1., 1., 0.]])"
            ]
          },
          "metadata": {},
          "execution_count": 14
        }
      ],
      "source": [
        "def make_diag_mask(size, radius):\n",
        "    \"\"\"Квадратная матрица размера Size x Size с двумя полосами ширины radius вдоль главной диагонали\"\"\"\n",
        "    idxs = torch.arange(size)\n",
        "    abs_idx_diff = (idxs.unsqueeze(0) - idxs.unsqueeze(1)).abs()\n",
        "    mask = ((abs_idx_diff <= radius) & (abs_idx_diff > 0)).float()\n",
        "    return mask\n",
        "\n",
        "make_diag_mask(10, 3)"
      ]
    },
    {
      "cell_type": "markdown",
      "metadata": {
        "id": "i6k6P2RpvIpN"
      },
      "source": [
        "**Negative Sampling** работает следующим образом - мы **максимизируем сумму вероятностей двух событий**:\n",
        "\n",
        "* \"этот пример центрального слова вместе с контекстными словами взят **из тренировочной выборки**\": $$ P(y=1 | CenterW_i; CtxW_j) = sigmoid(w_i \\cdot d_j) = \\frac{1}{1+e^{-w_i \\cdot d_j}} $$\n",
        "\n",
        "$$ \\\\ $$\n",
        "\n",
        "* \"этот пример центрального слова вместе со случайми контекстными словами **выдуман** \": $$ P(y=0 | CenterW_i; CtxW_{noise}) = 1 - P(y=1 | CenterW_i;  CtxW_{noise}) = \\frac{1}{1+e^{w_i \\cdot d_{noise}}} $$\n",
        "\n",
        "$$ \\\\ $$\n",
        "\n",
        "$$ NEG(CtxW_j, CenterW_i) = log(\\frac{1}{1+e^{-w_i \\cdot d_j}}) + \\sum_{l=1}^{k}log(\\frac{1}{1+e^{w_i \\cdot d_{noise_l}}})  \\rightarrow \\max_{W,D} $$"
      ]
    },
    {
      "cell_type": "code",
      "execution_count": null,
      "metadata": {
        "ExecuteTime": {
          "end_time": "2019-10-29T19:19:33.101379Z",
          "start_time": "2019-10-29T19:19:33.068154Z"
        },
        "id": "vBmQN01QvIpO"
      },
      "outputs": [],
      "source": [
        "class SkipGramNegativeSamplingTrainer(nn.Module):\n",
        "    def __init__(self, vocab_size, emb_size, sentence_len, radius=5, negative_samples_n=5):\n",
        "        super().__init__()\n",
        "        self.vocab_size = vocab_size\n",
        "        self.negative_samples_n = negative_samples_n\n",
        "\n",
        "        self.center_emb = nn.Embedding(self.vocab_size, emb_size, padding_idx=0)\n",
        "        self.center_emb.weight.data.uniform_(-1.0 / emb_size, 1.0 / emb_size)\n",
        "        self.center_emb.weight.data[0] = 0\n",
        "\n",
        "        self.context_emb = nn.Embedding(self.vocab_size, emb_size, padding_idx=0)\n",
        "        self.context_emb.weight.data.uniform_(-1.0 / emb_size, 1.0 / emb_size)\n",
        "        self.context_emb.weight.data[0] = 0\n",
        "\n",
        "        self.positive_sim_mask = make_diag_mask(sentence_len, radius)\n",
        "\n",
        "    def forward(self, sentences):\n",
        "        \"\"\"sentences - Batch x MaxSentLength - идентификаторы токенов\"\"\"\n",
        "        batch_size = sentences.shape[0]\n",
        "        center_embeddings = self.center_emb(sentences)  # Batch x MaxSentLength x EmbSize\n",
        "\n",
        "        # оценить сходство с настоящими соседними словами\n",
        "        positive_context_embs = self.context_emb(sentences).permute(0, 2, 1)  # Batch x EmbSize x MaxSentLength\n",
        "        positive_sims = torch.bmm(center_embeddings, positive_context_embs)  # Batch x MaxSentLength x MaxSentLength\n",
        "        positive_probs = torch.sigmoid(positive_sims)\n",
        "\n",
        "        # увеличить оценку вероятности встретить эти пары слов вместе\n",
        "        positive_mask = self.positive_sim_mask.to(positive_sims.device)\n",
        "        positive_loss = F.binary_cross_entropy(positive_probs * positive_mask,\n",
        "                                               positive_mask.expand_as(positive_probs))\n",
        "\n",
        "        # выбрать случайные \"отрицательные\" слова\n",
        "        negative_words = torch.randint(1, self.vocab_size,\n",
        "                                       size=(batch_size, self.negative_samples_n),\n",
        "                                       device=sentences.device)  # Batch x NegSamplesN\n",
        "        negative_context_embs = self.context_emb(negative_words).permute(0, 2, 1)  # Batch x EmbSize x NegSamplesN\n",
        "        negative_sims = torch.bmm(center_embeddings, negative_context_embs)  # Batch x MaxSentLength x NegSamplesN\n",
        "\n",
        "        # уменьшить оценку вероятность встретить эти пары слов вместе\n",
        "        negative_loss = F.binary_cross_entropy_with_logits(negative_sims,\n",
        "                                                           negative_sims.new_zeros(negative_sims.shape))\n",
        "\n",
        "        return positive_loss + negative_loss\n",
        "\n",
        "\n",
        "def no_loss(pred, target):\n",
        "    \"\"\"Фиктивная функция потерь - когда модель сама считает функцию потерь\"\"\"\n",
        "    return pred"
      ]
    },
    {
      "cell_type": "markdown",
      "source": [
        "Итак, начнём описывать нашу модель. Как вы помните, в модели есть две прямоугольные матрицы размерности \"количество слов в словаре\" на \"размер эмбеддинга\". В pytorch есть модуль, который реализует функции выборки из этой таблицы по номеру токена — этот модуль называется embedding, и он лежит в пакете nn. Мы создаём два экземпляра этого класса для того, чтобы хранить таблицу центральных векторов и контекстных векторов. Очень важный момент, который не всегда описывается в руководствах и статьях про обучение эмбеддингов: очень важно проинициализировать эти таблицы. По умолчанию, nn.embedding заполняет значения в своей матрице нормальным шумом. Для обучения word2vec эта инициализация совершенно не подходит. Правильный способ инициализации весов для обучения word2vec — это равномерный шум, причём диапазон значений этого шума связан с размерностью эмбеддингов. Такая инициализация нужна для того, чтобы длина вектора, начальная, примерно равнялась единице. Также, как мы помним, у нас есть фиктивное слово — фиктивный токен \"pad\". Мы его используем для того, чтобы дополнять предложения до фиксированной длины. Мы говорим слою nn embedding, что токен с индексом \"0\" — фиктивный и что для него не нужно учить вектор, для него вектор всегда будет нулевым. Он не будет меняться в процессе обучения. Проделываем всё то же самое для матрицы контекстных векторов. И создаём, один раз, матрицу масок с двумя полосками ненулевых элементов — как мы чуть раньше сказали. Это — то, что касается инициализации."
      ],
      "metadata": {
        "id": "0EFXMeMJSlV8"
      }
    },
    {
      "cell_type": "markdown",
      "source": [
        "Перейдём к прямому проходу по этой модели. Традиционно, метод forward используется для того, чтобы получить предсказание модели для какого-то обучающего примера — например, получить метку класса. Но у нас здесь не вполне обычная модель, мы здесь используем метод forward для того, чтобы вычислить функцию потерь. Таким образом, наш класс модели, который мы сейчас описываем, на самом деле — это не модель, это алгоритм обучения, и мы назвали этот класс соответствующим образом — \"trainer\". Итак, на вход на каждой итерации нам дают пачку предложений — прямоугольный тензор размерности [\"размер батча\" на \"максимальную длину предложения\"]. Этот тензор имеет целочисленный тип. На первом шаге, для каждого токена из батча, мы получаем центральный эмбеддинг, то есть делаем выборку из таблицы центральных эмбеддингов. В результате мы получаем тензор вот такой размерности (трёхмерный тензор): [\"размер батча\" на \"максимально длину предложения\", и здесь у нас добавляется ещё \"размер эмбеддинга\"] в конец. Как вы помните, процесс обучения word2vec — это процесс обучения классификатора, который предсказывает — могут ли два слова встретиться в рамках какого-то небольшого окна, или не могут. Соответственно, нам нужны как положительные примеры, так и отрицательные примеры. Сначала разберёмся с положительными примерами. Для этого мы берём всё те же токены — все токены, которые у нас есть в батче, и делаем для них выборку из таблицы контекстных токенов. То есть, если сначала мы делали выборку из таблицы центральных токенов, теперь мы делаем выборку из таблицы контекстных токенов. И сразу же транспонируем её — то есть на этом шаге мы получаем тензор размерности [\"батч\" на \"размер эмбеддинга\" на \"максимальную длину предложения\"]. А затем мы вызываем функцию \"torch.bmm\", которая делает матричное произведение для каждой пары матриц в батче, то есть она принимает на вход два батча матриц прямоугольных, и выполняет матричное произведение для каждой пары. В результате мы получаем трёхмерный тензор размерности [\"количество примеров в батче\" на \"максимальную длину предложения\" на \"максимальную длину предложения\"]. Физический смысл этого тензора — это оценка сходства, оценка семантической близости, для каждой пары токенов, встретившихся внутри предложения. Далее мы преобразовываем оценки сходства в вероятности с помощью сигмоиды. Переменная positive props содержит оценки вероятностей того, что два слова встретятся вместе, и такие оценки вычислены для всех возможных пар слов для каждого предложения из батча. Но надо помнить, что мы хотим учитывать не все совместные встречаемости, а только совместные встречаемости внутри небольшого окна. Здесь-то нам и приходит на помощь матрица маски, которую мы построили чуть раньше. Так как мы решаем задачу классификации, то мы используем соответствующую функцию потерь — в данном случае бинарную кросс-энтропию, и здесь — важный момент — мы домножаем тензор вероятностей, который содержит вероятность для всех возможных пар токенов из наших предложений, на маску. Таким образом мы зануляем оценки вероятностей для всех пар токенов, которые не лежат внутри окна. И далее мы говорим, что настоящая метка для этих позиций — это единичка. То есть, для этих пар слов и этих позиций, модель должна предсказывать большую вероятность совместной встречаемости. Итак, с положительными примерами разобрались, давайте перейдём к отрицательным. В названии алгоритма есть слова \"negative sampling\", то есть сэмплирование отрицательных слов. Это достаточно буквальное название, то есть в качестве отрицательных слов мы выбираем случайные слова. В данном примере мы выбираем слова равномерно. В более продвинутых реализациях в качестве отрицательных слов используются более редкие слова, то есть сэмплирование уже идёт не равномерно, а с учётом частоты встречаемости каждого слова в обучающей выборке. Но, для простоты, мы опустим эти детали здесь. Итак, мы используем метод \"torch.randint\", который возвращает случайные целые числа в заданном диапазоне, для того, чтобы получить номера токенов, которые мы будем использовать в качестве отрицательных. Далее мы делаем выборку из таблицы контекстных векторов для полученных отрицательных токенов и сразу же её транспонируем. Таким образом, мы получаем трёхмерный тензор размерности [\"количество предложений в батче\" на \"размер эмбеддинга\" и на \"количество отрицательных слов\"], которые мы сэмплируем для каждого обучающего примера. Далее мы оцениваем семантическое сходство слов из настоящих предложений и случайно выбранных отрицательных слов. Делаем это так же — скалярным произведением. Далее мы также используем кросс-энтропию, для того чтобы сходство настоящих слов и отрицательных слов было поменьше, то есть мы передаём нули как таргеты. Кстати, здесь я использую функцию binary cross entropy with logits, она на вход принимает не оценки вероятностей, а оценки сходства, то есть не нормализованные значения. По сути, вот эти два способа использовать кросс-энтропию — они примерно одинаковы, но второй способ более стабильный с численной точки зрения. Ну и, наконец, мы просто возвращаем сумму функции потерь для положительных примеров и для отрицательных."
      ],
      "metadata": {
        "id": "aeE5eSb1T325"
      }
    },
    {
      "cell_type": "markdown",
      "metadata": {
        "id": "Nud0wAN2vIpO"
      },
      "source": [
        "## Обучение"
      ]
    },
    {
      "cell_type": "code",
      "execution_count": null,
      "metadata": {
        "ExecuteTime": {
          "end_time": "2019-10-29T19:19:33.130307Z",
          "start_time": "2019-10-29T19:19:33.103036Z"
        },
        "id": "_kwpQI2tvIpO"
      },
      "outputs": [],
      "source": [
        "trainer = SkipGramNegativeSamplingTrainer(len(vocabulary), 100, MAX_SENTENCE_LEN,\n",
        "                                          radius=5, negative_samples_n=25)"
      ]
    },
    {
      "cell_type": "code",
      "execution_count": null,
      "metadata": {
        "ExecuteTime": {
          "end_time": "2019-10-29T19:20:12.830221Z",
          "start_time": "2019-10-29T19:19:33.132062Z"
        },
        "scrolled": false,
        "id": "-QfUUsZgvIpO",
        "colab": {
          "base_uri": "https://localhost:8080/"
        },
        "outputId": "5fa96246-f59f-486a-b24d-721624d767b2"
      },
      "outputs": [
        {
          "output_type": "stream",
          "name": "stderr",
          "text": [
            "/usr/local/lib/python3.10/dist-packages/torch/optim/lr_scheduler.py:28: UserWarning: The verbose parameter is deprecated. Please use get_last_lr() to access the learning rate.\n",
            "  warnings.warn(\"The verbose parameter is deprecated. Please use get_last_lr() \"\n"
          ]
        },
        {
          "output_type": "stream",
          "name": "stdout",
          "text": [
            "Эпоха 0\n",
            "Эпоха: 2001 итераций, 22.01 сек\n",
            "Среднее значение функции потерь на обучении 0.8888508414459609\n",
            "Среднее значение функции потерь на валидации 0.8810310923689262\n",
            "Новая лучшая модель!\n",
            "\n",
            "Эпоха 1\n",
            "Эпоха: 2001 итераций, 14.75 сек\n",
            "Среднее значение функции потерь на обучении 0.8782664205895728\n",
            "Среднее значение функции потерь на валидации 0.877391709725713\n",
            "Новая лучшая модель!\n",
            "\n"
          ]
        }
      ],
      "source": [
        "best_val_loss, best_model = train_eval_loop(trainer,\n",
        "                                            train_dataset,\n",
        "                                            test_dataset,\n",
        "                                            no_loss,\n",
        "                                            lr=1e-2,\n",
        "                                            epoch_n=2,\n",
        "                                            batch_size=8,\n",
        "                                            device='cpu',\n",
        "                                            early_stopping_patience=10,\n",
        "                                            max_batches_per_epoch_train=2000,\n",
        "                                            max_batches_per_epoch_val=len(test_dataset),\n",
        "                                            lr_scheduler_ctor=lambda optim: torch.optim.lr_scheduler.ReduceLROnPlateau(optim, patience=1, verbose=True))"
      ]
    },
    {
      "cell_type": "markdown",
      "source": [
        "Давайте уже наконец перейдём к самому обучению. Сначала мы создаём экземпляр класса trainer, то есть — того класса, который мы сейчас описывали, и передаём туда размер нашего словаря, размер эмбеддингов, которые мы строим, максимальную длину предложения, а также описываем ширину окна, в рамках которого нам нужно учитывать совместные встречаемости слов. И для каждого предложения мы будем сэмплировать 25 отрицательных слов. Обучать модель мы будем с помощью функции \"train_eval_loop\", она реализует стандартный цикл для обучения нейросети, когда мы берём батч примеров из датасета, подаём на вход нейросети, вычисляем функцию ошибки, делаем градиентный шаг, и так далее — повторяем несколько таких эпох. И на каждой эпохе мы делаем проход как по обучающей подвыборке, так и по тестовой. Правда, для этого семинара мы внесли в этот цикл пару изменений — основное изменение заключается в том, что мы будем менять скорость обучения в процессе обучения. Логика такая, что когда, спустя несколько итераций, значение функции потерь перестаёт уменьшаться, мы считаем, что мы достигли некоторого предела, используя градиентные шаги такой длины, и говорим, что дальше будем делать более короткие шаги. Это позволяет нам спускаться в более узкие локальные минимумы, в которое мы бы не могли зайти, используя длинные шаги."
      ],
      "metadata": {
        "id": "0c1Enbl0VytA"
      }
    },
    {
      "cell_type": "code",
      "execution_count": null,
      "metadata": {
        "ExecuteTime": {
          "end_time": "2019-10-29T19:20:12.862018Z",
          "start_time": "2019-10-29T19:20:12.832046Z"
        },
        "id": "8FAI2qXCvIpO"
      },
      "outputs": [],
      "source": [
        "# Если Вы запускаете ноутбук на colab или kaggle, добавьте в начало пути ./stepik-dl-nlp\n",
        "torch.save(trainer.state_dict(), './stepik-dl-nlp/models/sgns.pth')"
      ]
    },
    {
      "cell_type": "code",
      "execution_count": null,
      "metadata": {
        "ExecuteTime": {
          "end_time": "2019-10-29T19:20:12.888270Z",
          "start_time": "2019-10-29T19:20:12.864706Z"
        },
        "id": "WT8HGExivIpO",
        "colab": {
          "base_uri": "https://localhost:8080/"
        },
        "outputId": "2a0e7696-b488-407a-815a-a288b53cf16b"
      },
      "outputs": [
        {
          "output_type": "execute_result",
          "data": {
            "text/plain": [
              "<All keys matched successfully>"
            ]
          },
          "metadata": {},
          "execution_count": 19
        }
      ],
      "source": [
        "# Если Вы запускаете ноутбук на colab или kaggle, добавьте в начало пути ./stepik-dl-nlp\n",
        "trainer.load_state_dict(torch.load('./stepik-dl-nlp/models/sgns.pth'))"
      ]
    },
    {
      "cell_type": "markdown",
      "metadata": {
        "id": "quc0mewqvIpO"
      },
      "source": [
        "## Исследуем характеристики полученных векторов"
      ]
    },
    {
      "cell_type": "code",
      "execution_count": null,
      "metadata": {
        "ExecuteTime": {
          "end_time": "2019-10-29T19:20:12.919904Z",
          "start_time": "2019-10-29T19:20:12.890671Z"
        },
        "id": "3iPuZfx0vIpO"
      },
      "outputs": [],
      "source": [
        "embeddings = Embeddings(trainer.center_emb.weight.detach().cpu().numpy(), vocabulary)"
      ]
    },
    {
      "cell_type": "code",
      "execution_count": null,
      "metadata": {
        "ExecuteTime": {
          "end_time": "2019-10-29T19:20:12.942708Z",
          "start_time": "2019-10-29T19:20:12.921619Z"
        },
        "id": "3_3xlXgtvIpO",
        "colab": {
          "base_uri": "https://localhost:8080/"
        },
        "outputId": "2942fbea-4521-40de-bbe0-d1dab9059245"
      },
      "outputs": [
        {
          "output_type": "execute_result",
          "data": {
            "text/plain": [
              "[('chicken', 0.99993825),\n",
              " ('duck', 0.63360304),\n",
              " ('thighs', 0.6003635),\n",
              " ('breasts', 0.59453577),\n",
              " ('stock', 0.57336885),\n",
              " ('broth', 0.5484196),\n",
              " ('quarts', 0.5390098),\n",
              " ('breast', 0.5274664),\n",
              " ('sodium', 0.51676565),\n",
              " ('apart', 0.5112716)]"
            ]
          },
          "metadata": {},
          "execution_count": 21
        }
      ],
      "source": [
        "embeddings.most_similar('chicken')"
      ]
    },
    {
      "cell_type": "code",
      "execution_count": null,
      "metadata": {
        "ExecuteTime": {
          "end_time": "2019-10-29T19:20:12.965936Z",
          "start_time": "2019-10-29T19:20:12.944423Z"
        },
        "id": "WJkiqAQhvIpO",
        "colab": {
          "base_uri": "https://localhost:8080/"
        },
        "outputId": "a704d7db-7d6d-4c1b-c679-90693db86362"
      },
      "outputs": [
        {
          "output_type": "execute_result",
          "data": {
            "text/plain": [
              "[('emmenthal', 1.0599453),\n",
              " ('cheeses', 1.0130466),\n",
              " ('gorgonzola', 1.007175),\n",
              " ('cottage', 0.99478126),\n",
              " ('glaze', 0.9930079),\n",
              " ('cheese', 0.98398626),\n",
              " ('cacao', 0.97802466),\n",
              " ('sheep', 0.9763385),\n",
              " ('monterey', 0.97383016),\n",
              " ('provolone', 0.96693236)]"
            ]
          },
          "metadata": {},
          "execution_count": 22
        }
      ],
      "source": [
        "embeddings.analogy('cake', 'cacao', 'cheese')"
      ]
    },
    {
      "cell_type": "code",
      "execution_count": null,
      "metadata": {
        "ExecuteTime": {
          "end_time": "2019-10-29T19:20:12.991060Z",
          "start_time": "2019-10-29T19:20:12.967532Z"
        },
        "id": "UqxYHcEFvIpO",
        "colab": {
          "base_uri": "https://localhost:8080/"
        },
        "outputId": "25735544-19ec-488d-c11e-a02168e3e968"
      },
      "outputs": [
        {
          "output_type": "stream",
          "name": "stdout",
          "text": [
            "(18, 100)\n"
          ]
        }
      ],
      "source": [
        "test_words = ['salad', 'fish', 'salmon', 'sauvignon', 'beef', 'pork', 'steak', 'beer', 'cake', 'coffee', 'sausage', 'wine', 'merlot', 'zinfandel', 'trout', 'chardonnay', 'champagne', 'cacao']\n",
        "test_vectors = embeddings.get_vectors(*test_words)\n",
        "print(test_vectors.shape)"
      ]
    },
    {
      "cell_type": "code",
      "execution_count": null,
      "metadata": {
        "ExecuteTime": {
          "end_time": "2019-10-29T19:20:13.318676Z",
          "start_time": "2019-10-29T19:20:12.996595Z"
        },
        "id": "XBAccqtAvIpO",
        "colab": {
          "base_uri": "https://localhost:8080/",
          "height": 642
        },
        "outputId": "2be2943e-696c-445d-88f2-4bb6a701e362"
      },
      "outputs": [
        {
          "output_type": "display_data",
          "data": {
            "text/plain": [
              "<Figure size 1000x1000 with 1 Axes>"
            ],
            "image/png": "[encoded data removed]"
          },
          "metadata": {}
        }
      ],
      "source": [
        "fig, ax = plt.subplots()\n",
        "fig.set_size_inches((10, 10))\n",
        "plot_vectors(test_vectors, test_words, how='svd', ax=ax)"
      ]
    },
    {
      "cell_type": "code",
      "source": [
        "# Embeddings\n",
        "\n",
        "#     def __init__(self, embeddings, word2id):\n",
        "#         self.embeddings = embeddings\n",
        "#         self.embeddings /= (np.linalg.norm(self.embeddings, ord=2, axis=-1, keepdims=True) + 1e-4)\n",
        "#         self.word2id = word2id\n",
        "#         self.id2word = {i: w for w, i in word2id.items()}\n",
        "\n",
        "#     def most_similar(self, word, topk=10):\n",
        "#         return self.most_similar_by_vector(self.get_vector(word), topk=topk)\n",
        "\n",
        "#     def analogy(self, a1, b1, a2, topk=10):\n",
        "#         a1_v = self.get_vector(a1)\n",
        "#         b1_v = self.get_vector(b1)\n",
        "#         a2_v = self.get_vector(a2)\n",
        "#         query = b1_v - a1_v + a2_v\n",
        "#         return self.moclass Embeddings:st_similar_by_vector(query, topk=topk)\n",
        "\n",
        "#     def most_similar_by_vector(self, query_vector, topk=10):\n",
        "#         similarities = (self.embeddings * query_vector).sum(-1)\n",
        "#         best_indices = np.argpartition(-similarities, topk, axis=0)[:topk]\n",
        "#         result = [(self.id2word[i], similarities[i]) for i in best_indices]\n",
        "#         result.sort(key=lambda pair: -pair[1])\n",
        "#         return result\n",
        "\n",
        "#     def get_vector(self, word):\n",
        "#         if word not in self.word2id:\n",
        "#             raise ValueError('Неизвестное слово \"{}\"'.format(word))\n",
        "#         return self.embeddings[self.word2id[word]]\n",
        "\n",
        "#     def get_vectors(self, *words):\n",
        "#         word_ids = [self.word2id[i] for i in words]\n",
        "#         vectors = np.stack([self.embeddings[i] for i in word_ids], axis=0)\n",
        "#         return vectors"
      ],
      "metadata": {
        "colab": {
          "base_uri": "https://localhost:8080/",
          "height": 120
        },
        "id": "TbcnaTU7WRrD",
        "outputId": "2a2f9e6c-f22d-4c90-9b9e-8aa0ef2e51c0"
      },
      "execution_count": null,
      "outputs": [
        {
          "output_type": "execute_result",
          "data": {
            "text/plain": [
              "dlnlputils.data.embeddings.Embeddings"
            ],
            "text/html": [
              "<div style=\"max-width:800px; border: 1px solid var(--colab-border-color);\"><style>\n",
              "      pre.function-repr-contents {\n",
              "        overflow-x: auto;\n",
              "        padding: 8px 12px;\n",
              "        max-height: 500px;\n",
              "      }\n",
              "\n",
              "      pre.function-repr-contents.function-repr-contents-collapsed {\n",
              "        cursor: pointer;\n",
              "        max-height: 100px;\n",
              "      }\n",
              "    </style>\n",
              "    <pre style=\"white-space: initial; background:\n",
              "         var(--colab-secondary-surface-color); padding: 8px 12px;\n",
              "         border-bottom: 1px solid var(--colab-border-color);\"><b>dlnlputils.data.embeddings.Embeddings</b><br/>def __init__(embeddings, word2id)</pre><pre class=\"function-repr-contents function-repr-contents-collapsed\" style=\"\"><a class=\"filepath\" style=\"display:none\" href=\"#\">/content/stepik-dl-nlp/dlnlputils/data/embeddings.py</a>&lt;no docstring&gt;</pre>\n",
              "      <script>\n",
              "      if (google.colab.kernel.accessAllowed && google.colab.files && google.colab.files.view) {\n",
              "        for (const element of document.querySelectorAll('.filepath')) {\n",
              "          element.style.display = 'block'\n",
              "          element.onclick = (event) => {\n",
              "            event.preventDefault();\n",
              "            event.stopPropagation();\n",
              "            google.colab.files.view(element.textContent, 5);\n",
              "          };\n",
              "        }\n",
              "      }\n",
              "      for (const element of document.querySelectorAll('.function-repr-contents')) {\n",
              "        element.onclick = (event) => {\n",
              "          event.preventDefault();\n",
              "          event.stopPropagation();\n",
              "          element.classList.toggle('function-repr-contents-collapsed');\n",
              "        };\n",
              "      }\n",
              "      </script>\n",
              "      </div>"
            ]
          },
          "metadata": {},
          "execution_count": 34
        }
      ]
    },
    {
      "cell_type": "markdown",
      "source": [
        "Прошло немного времени, наша модель обучилась — мы видим, что даже уже за одну эпоху функция потерь достигла приемлемого значения и в последующих итерациях она менялась слабо. Наше дополнение для уменьшения скорости обучения тоже сработало. На всякий случай, сохраним нашу модель. Давайте теперь достанем вектора слов из обученной модели и посмотрим — что же мы там \"научили\". Для того, чтобы было удобно экспериментировать с обученными эмбеддингами слов, мы сделали небольшой класс, который на вход принимает numpy-массив двумерный — прямоугольную матрицу, количество строк в которой совпадает с количеством слов в словаре, а количество столбцов с размерностью эмбеддинга. А также, этот класс принимает словарь, который отображает токены в текстовом виде в номера токенов. Важный момент — для того, чтобы было удобнее искать похожие слова, мы нормируем вектора — каждый вектор нормируется на его евклидову норму (на его длину). Этот класс поддерживает несколько методов — например, поиск ближайших слов, решение семантической пропорции — то есть задача аналогии, а также получение списка векторов для слов. Все эти функции, так или иначе, завязаны на самое главное — это вычисление близости векторов. Этот алгоритм реализуется в методе most similar by vector. Метод принимает на вход вектор и возвращает список пар. В каждой паре первый элемент — это токен в строковом виде, второй — это оценка сходства с вектором-запросом. Мы здесь сначала находим сходство данного вектора со всеми вообще векторами в нашей таблице, а затем выбираем заданное количество наиболее близких. Итак, давайте поэкспериментируем с полученными эмбеддингами, посмотрим, \"что же там научилось\". Давайте найдём слова, самые близкие по смыслу, к слову \"сыр\". Мы видим, что список похожих слов содержит, в первую очередь, сорта сыра — чеддер, пармезан, рикотта, и так далее. В принципе, выглядит неплохо! Давайте ещё какой-нибудь пример посмотрим — например, \"курица\". Мы видим, что здесь \"утка\", \"индейка\", \"грудка\" и другие виды мяса. Давайте также попробуем решить смысловую пропорцию, то есть найти слова которые относятся к сыру так же, как \"какао\" относится к \"пирожному\". Список похожих слов получился не очень осмысленным, это вполне понятно, потому что предложения короткие, и \"сыр\", допустим, с \"вином\", редко встречается в одном предложении — хотя бы поэтому. Из такого небольшого корпуса, как наш, мы могли и не выучить нужные закономерности. То есть, размер корпуса очень важен при обучении дистрибутивно-семантических моделей. Давайте теперь получим вектора для сразу нескольких слов и набросаем их на плоскость. Наши вектора имеют размерность \"100\". Вектора размерности \"100\" непосредственно нельзя визуализировать — мы можем визуализировать только вектора размерности не больше трёх, но более удобно использовать вообще \"2\", чтобы всё на плоскости было. У нас в библиотеке есть специально небольшая функция для этого. Что же у нас тут выучилось? На этом графике мы видим, что — допустим, слова, соответствующие сортам винограда ближе к друг другу, чем к другим словам, а также мясные и рыбные изделия тоже объединились в группу. Центральная группа соответствует тоже каким-то напиткам, куда попало и \"вино\", и \"какао\", и \"кофе\". Алгоритм обучения word2vec не детерминированный, потому что мы случайно инициализируем таблицы эмбеддингов, делаем случайные шаги по случайно выбранным группам примеров, мы используем случайное сэмплирование отрицательных слов, и поэтому, если вы несколько раз запустите обучение, то вы получите разные рисунки и немного отличающиеся списки \"похожих\" слов.\n",
        "\n"
      ],
      "metadata": {
        "id": "TwcXsTHVXqV_"
      }
    },
    {
      "cell_type": "markdown",
      "metadata": {
        "id": "RC-mEKpLvIpP"
      },
      "source": [
        "## Обучение Word2Vec с помощью Gensim"
      ]
    },
    {
      "cell_type": "code",
      "execution_count": null,
      "metadata": {
        "ExecuteTime": {
          "end_time": "2019-10-29T19:20:17.075005Z",
          "start_time": "2019-10-29T19:20:13.615729Z"
        },
        "id": "7gdRwHk5yfTz"
      },
      "outputs": [],
      "source": [
        "word2vec = gensim.models.Word2Vec(sentences=train_tokenized, vector_size=100,\n",
        "                                  window=5, min_count=5, workers=4,\n",
        "                                  sg=1, epochs=10)"
      ]
    },
    {
      "cell_type": "code",
      "execution_count": null,
      "metadata": {
        "ExecuteTime": {
          "end_time": "2019-10-29T19:20:17.109583Z",
          "start_time": "2019-10-29T19:20:17.076599Z"
        },
        "id": "ZMLySPRXvIpP",
        "colab": {
          "base_uri": "https://localhost:8080/"
        },
        "outputId": "6fac6a02-822f-4b32-8ab2-48edfae0f773"
      },
      "outputs": [
        {
          "output_type": "execute_result",
          "data": {
            "text/plain": [
              "[('duck', 0.7224005460739136),\n",
              " ('turkey', 0.68096923828125),\n",
              " ('pheasant', 0.6805034875869751),\n",
              " ('thighs', 0.6716834902763367),\n",
              " ('simmering', 0.670296311378479),\n",
              " ('drumsticks', 0.6700149774551392),\n",
              " ('defatted', 0.6587092876434326),\n",
              " ('breasts', 0.6465543508529663),\n",
              " ('legs', 0.6377983093261719),\n",
              " ('rabbit', 0.6305736303329468)]"
            ]
          },
          "metadata": {},
          "execution_count": 40
        }
      ],
      "source": [
        "word2vec.wv.most_similar('chicken')"
      ]
    },
    {
      "cell_type": "code",
      "execution_count": null,
      "metadata": {
        "ExecuteTime": {
          "end_time": "2019-10-29T19:20:17.176357Z",
          "start_time": "2019-10-29T19:20:17.112948Z"
        },
        "id": "oCKiL-fCvIpP"
      },
      "outputs": [],
      "source": [
        "gensim_words = [w for w in test_words if w in word2vec.wv.index_to_key]\n",
        "gensim_vectors = np.stack([word2vec.wv[w] for w in gensim_words])"
      ]
    },
    {
      "cell_type": "code",
      "execution_count": null,
      "metadata": {
        "ExecuteTime": {
          "end_time": "2019-10-29T19:20:17.428874Z",
          "start_time": "2019-10-29T19:20:17.179311Z"
        },
        "id": "oPKjjrYZvIpP",
        "colab": {
          "base_uri": "https://localhost:8080/",
          "height": 687
        },
        "outputId": "53c3bad5-aa77-44e0-8cba-27f9c92dcef4"
      },
      "outputs": [
        {
          "output_type": "display_data",
          "data": {
            "text/plain": [
              "<Figure size 1000x1000 with 1 Axes>"
            ],
            "image/png": "[encoded data removed]"
          },
          "metadata": {}
        }
      ],
      "source": [
        "fig, ax = plt.subplots()\n",
        "fig.set_size_inches((10, 10))\n",
        "plot_vectors(gensim_vectors, test_words, how='svd', ax=ax)"
      ]
    },
    {
      "cell_type": "markdown",
      "metadata": {
        "id": "gM6l7HyxvIpP"
      },
      "source": [
        "## Загрузка предобученного Word2Vec\n",
        "\n",
        "Источники готовых векторов:\n",
        "\n",
        "https://rusvectores.org/ru/ - для русского языка\n",
        "\n",
        "https://wikipedia2vec.github.io/wikipedia2vec/pretrained/ - много разных языков"
      ]
    },
    {
      "cell_type": "code",
      "execution_count": null,
      "metadata": {
        "ExecuteTime": {
          "end_time": "2019-10-29T19:20:17.460133Z",
          "start_time": "2019-10-29T19:20:17.430563Z"
        },
        "id": "aMExsUV5vIpP"
      },
      "outputs": [],
      "source": [
        "import gensim.downloader as api"
      ]
    },
    {
      "cell_type": "code",
      "execution_count": null,
      "metadata": {
        "ExecuteTime": {
          "end_time": "2019-10-29T19:20:17.980509Z",
          "start_time": "2019-10-29T19:20:17.462239Z"
        },
        "id": "xaiyutFmvIpP",
        "colab": {
          "base_uri": "https://localhost:8080/"
        },
        "outputId": "9184986e-4840-4e04-fa15-7273baa06c3d"
      },
      "outputs": [
        {
          "output_type": "stream",
          "name": "stdout",
          "text": [
            "fasttext-wiki-news-subwords-300\n",
            "conceptnet-numberbatch-17-06-300\n",
            "word2vec-ruscorpora-300\n",
            "word2vec-google-news-300\n",
            "glove-wiki-gigaword-50\n",
            "glove-wiki-gigaword-100\n",
            "glove-wiki-gigaword-200\n",
            "glove-wiki-gigaword-300\n",
            "glove-twitter-25\n",
            "glove-twitter-50\n",
            "glove-twitter-100\n",
            "glove-twitter-200\n",
            "__testing_word2vec-matrix-synopsis\n"
          ]
        }
      ],
      "source": [
        "available_models = api.info()['models'].keys()\n",
        "print('\\n'.join(available_models))"
      ]
    },
    {
      "cell_type": "code",
      "execution_count": null,
      "metadata": {
        "ExecuteTime": {
          "end_time": "2019-10-29T19:22:12.649035Z",
          "start_time": "2019-10-29T19:20:17.984118Z"
        },
        "scrolled": false,
        "id": "C0nVGsDmvIpP",
        "colab": {
          "base_uri": "https://localhost:8080/"
        },
        "outputId": "5b3fd0f1-e683-448a-9817-fa27fa87795a"
      },
      "outputs": [
        {
          "output_type": "stream",
          "name": "stdout",
          "text": [
            "[==================================================] 100.0% 1662.8/1662.8MB downloaded\n"
          ]
        }
      ],
      "source": [
        "pretrained = api.load('word2vec-google-news-300')  # > 1.5 GB!"
      ]
    },
    {
      "cell_type": "code",
      "execution_count": null,
      "metadata": {
        "ExecuteTime": {
          "end_time": "2019-10-29T19:22:12.651388Z",
          "start_time": "2019-10-29T19:19:29.817Z"
        },
        "id": "hLjW_iE0vIpP",
        "colab": {
          "base_uri": "https://localhost:8080/"
        },
        "outputId": "a1839183-2609-4ec8-f030-8f04a1e17fe9"
      },
      "outputs": [
        {
          "output_type": "execute_result",
          "data": {
            "text/plain": [
              "[('cheeses', 0.7788999676704407),\n",
              " ('cheddar', 0.7627597451210022),\n",
              " ('goat_cheese', 0.7297402024269104),\n",
              " ('Cheese', 0.7286962270736694),\n",
              " ('cheddar_cheese', 0.725513756275177),\n",
              " ('Cheddar_cheese', 0.6943708658218384),\n",
              " ('mozzarella', 0.6805710792541504),\n",
              " ('cheddar_cheeses', 0.6694672107696533),\n",
              " ('Camembert', 0.6623162031173706),\n",
              " ('gruyere', 0.6615148186683655)]"
            ]
          },
          "metadata": {},
          "execution_count": 47
        }
      ],
      "source": [
        "pretrained.most_similar('cheese')"
      ]
    },
    {
      "cell_type": "code",
      "execution_count": null,
      "metadata": {
        "ExecuteTime": {
          "end_time": "2019-10-29T19:22:12.652649Z",
          "start_time": "2019-10-29T19:19:29.820Z"
        },
        "id": "fFhX6_wYvIpP",
        "colab": {
          "base_uri": "https://localhost:8080/"
        },
        "outputId": "fac456ac-04d5-4240-d93c-3a519445d81d"
      },
      "outputs": [
        {
          "output_type": "execute_result",
          "data": {
            "text/plain": [
              "[('woman', 0.7609435319900513),\n",
              " ('girl', 0.6139994263648987),\n",
              " ('teenage_girl', 0.6040961742401123),\n",
              " ('teenager', 0.5825759172439575),\n",
              " ('lady', 0.5752554535865784),\n",
              " ('boy', 0.5077577233314514),\n",
              " ('policewoman', 0.5066847801208496),\n",
              " ('schoolgirl', 0.5052095651626587),\n",
              " ('blonde', 0.48696190118789673),\n",
              " ('person', 0.48637545108795166)]"
            ]
          },
          "metadata": {},
          "execution_count": 48
        }
      ],
      "source": [
        "pretrained.most_similar(positive=['man', 'queen'], negative=['king'])"
      ]
    },
    {
      "cell_type": "code",
      "execution_count": null,
      "metadata": {
        "ExecuteTime": {
          "end_time": "2019-10-29T19:22:12.653584Z",
          "start_time": "2019-10-29T19:19:29.823Z"
        },
        "id": "63CzjBk1vIpP"
      },
      "outputs": [],
      "source": [
        "pretrained_words = [w for w in test_words if w in pretrained.index_to_key]\n",
        "pretrained_vectors = np.stack([pretrained[w] for w in pretrained_words])"
      ]
    },
    {
      "cell_type": "code",
      "execution_count": null,
      "metadata": {
        "ExecuteTime": {
          "end_time": "2019-10-29T19:22:12.654594Z",
          "start_time": "2019-10-29T19:19:29.828Z"
        },
        "id": "88vjy76pvIpP",
        "colab": {
          "base_uri": "https://localhost:8080/",
          "height": 655
        },
        "outputId": "da829586-989e-4157-8ec8-8255b53efb3a"
      },
      "outputs": [
        {
          "output_type": "display_data",
          "data": {
            "text/plain": [
              "<Figure size 1000x1000 with 1 Axes>"
            ],
            "image/png": "[encoded data removed]"
          },
          "metadata": {}
        }
      ],
      "source": [
        "fig, ax = plt.subplots()\n",
        "fig.set_size_inches((10, 10))\n",
        "plot_vectors(pretrained_vectors, test_words, how='svd', ax=ax)"
      ]
    },
    {
      "cell_type": "markdown",
      "metadata": {
        "id": "qsLAlylhvIpP"
      },
      "source": [
        "## Заключение\n",
        "\n",
        "* Реализовали Skip Gram Negative Sampling на PyTorch\n",
        "* Обучили на корпусе рецептов\n",
        "    * Сходство слов модель выучила неплохо\n",
        "    * Для аналогий мало данных\n",
        "* Обучили SGNS с помощью библиотеки Gensim\n",
        "* Загрузили веса Word2Vec, полученные с помощью большого корпуса (GoogleNews)\n",
        "    * Списки похожих слов отличаются!\n",
        "    * Аналогии работают"
      ]
    },
    {
      "cell_type": "code",
      "execution_count": null,
      "metadata": {
        "id": "IP1iuDHKvIpP"
      },
      "outputs": [],
      "source": []
    }
  ],
  "metadata": {
    "kernelspec": {
      "display_name": "Python 3",
      "language": "python",
      "name": "python3"
    },
    "language_info": {
      "codemirror_mode": {
        "name": "ipython",
        "version": 3
      },
      "file_extension": ".py",
      "mimetype": "text/x-python",
      "name": "python",
      "nbconvert_exporter": "python",
      "pygments_lexer": "ipython3",
      "version": "3.6.10"
    },
    "latex_envs": {
      "LaTeX_envs_menu_present": true,
      "autoclose": false,
      "autocomplete": true,
      "bibliofile": "biblio.bib",
      "cite_by": "apalike",
      "current_citInitial": 1,
      "eqLabelWithNumbers": true,
      "eqNumInitial": 1,
      "hotkeys": {
        "equation": "Ctrl-E",
        "itemize": "Ctrl-I"
      },
      "labels_anchors": false,
      "latex_user_defs": false,
      "report_style_numbering": false,
      "user_envs_cfg": false
    },
    "toc": {
      "base_numbering": 1,
      "nav_menu": {},
      "number_sections": true,
      "sideBar": true,
      "skip_h1_title": false,
      "title_cell": "Table of Contents",
      "title_sidebar": "Contents",
      "toc_cell": false,
      "toc_position": {},
      "toc_section_display": true,
      "toc_window_display": false
    },
    "colab": {
      "provenance": [],
      "include_colab_link": true
    }
  },
  "nbformat": 4,
  "nbformat_minor": 0
}